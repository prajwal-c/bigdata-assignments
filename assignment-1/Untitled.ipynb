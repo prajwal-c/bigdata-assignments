{
 "cells": [
  {
   "cell_type": "markdown",
   "id": "d29c91b8",
   "metadata": {},
   "source": [
    "# Assignment Part-1 (Solutions)"
   ]
  },
  {
   "cell_type": "markdown",
   "id": "96db68c8",
   "metadata": {},
   "source": [
    "## Q1. Why do we call Python as a general purpose and high-level programming language?"
   ]
  },
  {
   "cell_type": "markdown",
   "id": "618f5e44",
   "metadata": {},
   "source": [
    "Ans:\n",
    "- Python is a **general-purpose programming language**. This means it can be used in a variety of different applications, including task automation and the development of software, web applications, and games.\n",
    "- Python is a very **high-level programming language** because its syntax so closely resembles the English language. Higher-level means it’s more readable to humans and less readable to computers."
   ]
  },
  {
   "cell_type": "markdown",
   "id": "54415648",
   "metadata": {},
   "source": [
    "## Q2. Why is Python called a dynamically typed language?"
   ]
  },
  {
   "cell_type": "markdown",
   "id": "d4de81c3",
   "metadata": {},
   "source": [
    "Ans:\n",
    "- Ans: Python is a **dynamically typed language**. It doesn’t know about the type of the variable until the code is run. So declaration is of no use. What it does is, It stores that value at some memory location and then binds that variable name to that memory container. And makes the contents of the container accessible through that variable name. So the data type does not matter. As it will get to know the type of the value at run-time."
   ]
  },
  {
   "cell_type": "markdown",
   "id": "db42e905",
   "metadata": {},
   "source": [
    "## Q3. List some pros and cons of Python programming language?"
   ]
  },
  {
   "cell_type": "markdown",
   "id": "bd455868",
   "metadata": {},
   "source": [
    "Ans:\n",
    "### Pros:\n",
    "1. **Beginner-Friendly** - Python is an excellent platform for beginners who want to step into coding. This programming language is easy to learn, understand and code as it does not include too many technicalities.\n",
    "2. **Large Community** - The Python community boasts many coders, developers, professionals, and students on the same platform, helping one another and bringing the best out of it. \n",
    "3. **Flexible and Extensible** - Python is extremely flexible and can be extended to other languages. Developers can write code in C  and C++ and build new features in the dynamically-typed language.\n",
    "4. **Extensive Libraries** - Python features an extensive set of libraries and contains code for various purposes like documentation-generation, regular expressions, web-browsers, unit-testing, CGI, databases, image manipulation, etc. Hence, it eliminates the need to write the complete code manually.\n",
    "\n",
    "### Cons:\n",
    "1. **Slower than Compiled Languages** - Python is slow compared to other non-compiled languages as it requires a lot of computational power. So, this is the thing that you need to look at before choosing Python.\n",
    "2. **Python’s Memory Consumption and Garbage Collection** - Python language comes with high memory usage, and the high memory consumption should be tackled carefully during the project. It uses reference counting in its garbage collection, which often leads to potential memory losses.\n",
    "3. **Issues with Design** - Python developers sometimes have to deal with complicated designs. Therefore, highly efficient and experienced developers are preferred over beginners.\n",
    "4. **Python is Dynamically Typed** - Developers working in Data Science and Machine Learning projects prefer statically-typed language over dynamically typed language. The reason is that the statically typed language potentially minimizes a lot of errors and bugs in the system."
   ]
  },
  {
   "cell_type": "markdown",
   "id": "44b75588",
   "metadata": {},
   "source": [
    "# Q4. In what all domains can we use Python?"
   ]
  },
  {
   "cell_type": "markdown",
   "id": "1437a436",
   "metadata": {},
   "source": [
    "Ans:\n",
    "1. **Data Science** - Python is an entrusted language for scientific computing tasks, including analysis and visualization of large data sets. The use cases of Python in data science stems from the large and active ecosystem of third-party packages such as numpy, pandas, Sci-kit etc....\n",
    "2. **Automation** - Automating repetitive tasks such as sending emails & voicemails, organizing files & folders, launching programs, filling out forms, etc. can be automated through scripting.\n",
    "3. **Application Development** - Python is a favourable choice for web application development. Python integrates well with other programming languages and has some amazing web frameworks that boost the application development cycle that include django, flask etc.....\n",
    "4. **AI & Machine Learning** - Python’s pre-built libraries are the reason why it is preferred for AI & machine learning development.\n",
    "5. **Audio/Video Applications** - Python is a sought-after programming language for creating audio/video applications. An example of this is the Spotify app that’s built using Python programming language."
   ]
  },
  {
   "cell_type": "markdown",
   "id": "03695d5a",
   "metadata": {},
   "source": [
    "# Q5. What are variable and how can we declare them?"
   ]
  },
  {
   "cell_type": "markdown",
   "id": "25481dcb",
   "metadata": {},
   "source": [
    "Ans:\n",
    "* A **variable in Python** is a reserved memory location to store values. In other words, a variable in a python program gives data to the computer for processing.\n",
    "---------------------------------------------------------\n",
    "* **To declare a variable** −\n",
    "1. Name the variable\n",
    "2. Assign a value to it. (can be integer, string, boolean etc......)"
   ]
  },
  {
   "cell_type": "code",
   "execution_count": 14,
   "id": "eb075469",
   "metadata": {},
   "outputs": [],
   "source": [
    "variable_str = \"Prajwal\""
   ]
  },
  {
   "cell_type": "markdown",
   "id": "fcf3dfd4",
   "metadata": {},
   "source": [
    "-------------------------------------------------------"
   ]
  },
  {
   "cell_type": "markdown",
   "id": "0129ab3d",
   "metadata": {},
   "source": [
    "# Q6. How can we take an input from the user in Python?"
   ]
  },
  {
   "cell_type": "markdown",
   "id": "5a390feb",
   "metadata": {},
   "source": [
    "Ans:\n",
    "* We can use the **input()** method to take user input in python. The input() method, when executed, takes an option string argument which is shown as a prompt to the user."
   ]
  },
  {
   "cell_type": "markdown",
   "id": "3c402f11",
   "metadata": {},
   "source": [
    "# Q7. What is the default datatype of the value that has been taken as an input using input() function?"
   ]
  },
  {
   "cell_type": "markdown",
   "id": "29884205",
   "metadata": {},
   "source": [
    "Ans:\n",
    "- The input() function by default returns the value as **string datatype**."
   ]
  },
  {
   "cell_type": "markdown",
   "id": "e1af39fd",
   "metadata": {},
   "source": [
    "# Q8. What is type casting?"
   ]
  },
  {
   "cell_type": "markdown",
   "id": "f52d7174",
   "metadata": {},
   "source": [
    "Ans:\n",
    "* **Converting one datatype into another** is known as type casting or type-conversion."
   ]
  },
  {
   "cell_type": "markdown",
   "id": "e280ec74",
   "metadata": {},
   "source": [
    "# Q9. Can we take more than one input from the user using single input() function? If yes, how? If no, why?"
   ]
  },
  {
   "cell_type": "markdown",
   "id": "97433938",
   "metadata": {},
   "source": [
    "Ans\n",
    "* **Yes**, We can take more than one input from the user using single input() function. In this case we can split our input using the .split(separator) method of the string, which returns a list of parts of the given string. separator argument is optional: if the user enters the numbers separated by whitespace characters, you don't need to pass this argument, otherwise you need to pass a separator."
   ]
  },
  {
   "cell_type": "code",
   "execution_count": 5,
   "id": "89d853ff",
   "metadata": {},
   "outputs": [
    {
     "name": "stdout",
     "output_type": "stream",
     "text": [
      "Enter the numbers... 1 2 3 4 5\n",
      "['1', '2', '3', '4', '5']\n"
     ]
    }
   ],
   "source": [
    "numbers = input(\"Enter the numbers... \").split(\" \")\n",
    "print(numbers)"
   ]
  },
  {
   "cell_type": "markdown",
   "id": "16575433",
   "metadata": {},
   "source": [
    "- We can take more than one input from the user using single input() function, by using looping statements"
   ]
  },
  {
   "cell_type": "code",
   "execution_count": 1,
   "id": "f14bf087",
   "metadata": {},
   "outputs": [
    {
     "name": "stdout",
     "output_type": "stream",
     "text": [
      "Enter the number-1: 34\n",
      "Enter the number-2: 65\n",
      "Enter the number-3: 76\n",
      "Enter the number-4: 23\n",
      "Enter the number-5: 78\n",
      "[34, 65, 76, 23, 78]\n"
     ]
    }
   ],
   "source": [
    "user_input_arr = []\n",
    "for i in range(0, 5):\n",
    "    user_input_arr.append(int(input(f\"Enter the number-{i+1}: \")))\n",
    "print(user_input_arr)"
   ]
  },
  {
   "cell_type": "markdown",
   "id": "c380741f",
   "metadata": {},
   "source": [
    "# Q10. What are keywords?"
   ]
  },
  {
   "cell_type": "markdown",
   "id": "30dc037b",
   "metadata": {},
   "source": [
    "Ans:\n",
    "- **Python keywords** are reserved words. They are used by python interpreters to understand the program. \n",
    "- **Keywords** define the structure of programs. We can’t use keywords to name program entities such as variables, classes, and functions."
   ]
  },
  {
   "cell_type": "markdown",
   "id": "63bf7971",
   "metadata": {},
   "source": [
    "# Q11. Can we use keywords as a variable? Support your answer with reason."
   ]
  },
  {
   "cell_type": "markdown",
   "id": "e8b91ea7",
   "metadata": {},
   "source": [
    "Ans:\n",
    "* **No**, Keywords are case sensitive in python. You can’t use a keyword as variable name, function name or any other identifier name.\n",
    "* Typically, when a programmer attempts to use a keyword for a variable or function name, a compilation error will be triggered. In most modern editors, the keywords are automatically set to have a particular text colour to remind or inform the programmers that they are keywords."
   ]
  },
  {
   "cell_type": "markdown",
   "id": "2c9e5f9a",
   "metadata": {},
   "source": [
    "# Q12. What is indentation? What's the use of indentation in Python?"
   ]
  },
  {
   "cell_type": "markdown",
   "id": "fb30273d",
   "metadata": {},
   "source": [
    "Ans:\n",
    "* Indentation refers to the spaces at the beginning of a code line.\n",
    "* Python uses indentation to indicate a block of code. Where in other programming languages the indentation in code is for readability only, the indentation in Python is very important.\n",
    "* Indentation is a very important concept of Python because without properly indenting the Python code, you will end up seeing IndentationError and the code will not get compiled."
   ]
  },
  {
   "cell_type": "markdown",
   "id": "ce3504e8",
   "metadata": {},
   "source": [
    "# Q13. How can we throw some output in Python?"
   ]
  },
  {
   "cell_type": "markdown",
   "id": "45085874",
   "metadata": {},
   "source": [
    "Ans:\n",
    "* we can throw some output in Python using print() function.\n",
    "* In the print() function, you output multiple variables, separated by a comma."
   ]
  },
  {
   "cell_type": "markdown",
   "id": "a8b87e1e",
   "metadata": {},
   "source": [
    "# Q14. What are operators in Python?"
   ]
  },
  {
   "cell_type": "markdown",
   "id": "550375c2",
   "metadata": {},
   "source": [
    "Ans:\n",
    "* **Operators** in python are used to performing operations on variables and values according to their use.\n",
    "* Python language supports the following types of operators.\n",
    "    1. Arithmetic Operators\n",
    "    2. Bitwise Operators\n",
    "    3. Membership Operators\n",
    "    4. Identity Operators\n",
    "    5. Comparison Operators\n",
    "    6. Assignment Operators\n",
    "    7. Logical Operators"
   ]
  },
  {
   "cell_type": "markdown",
   "id": "b37bd5ba",
   "metadata": {},
   "source": [
    "# Q15. What is difference between / and // operators?"
   ]
  },
  {
   "cell_type": "markdown",
   "id": "9ecb36fd",
   "metadata": {},
   "source": [
    "Ans:\n",
    "- **Normal Division (/)** : Divides the value on the left by the one on the right. Notice that division results in a floating-point value.\n",
    "- **Floor Division (//)** : Divides and returns the integer value."
   ]
  },
  {
   "cell_type": "markdown",
   "id": "b02e0c78",
   "metadata": {},
   "source": [
    "# Q16. Write a code that gives following as an output.\n",
    "iNeuroniNeuroniNeuroniNeuron"
   ]
  },
  {
   "cell_type": "code",
   "execution_count": 6,
   "id": "8e3c7320",
   "metadata": {},
   "outputs": [
    {
     "name": "stdout",
     "output_type": "stream",
     "text": [
      "iNeuroniNeuroniNeuroniNeuron\n"
     ]
    }
   ],
   "source": [
    "variable_str = \"iNeuron\"\n",
    "print(variable_str * 4)"
   ]
  },
  {
   "cell_type": "markdown",
   "id": "07c2ecf7",
   "metadata": {},
   "source": [
    "# Q17. Write a code to take a number as an input from the user and check if the number is odd or even."
   ]
  },
  {
   "cell_type": "code",
   "execution_count": null,
   "id": "cfef3bb8",
   "metadata": {},
   "outputs": [],
   "source": [
    "user_input = int(input(\"Enter a number: \"))\n",
    "if user_input % 2 == 0:\n",
    "    print(\"The given number is Even.\")\n",
    "else:\n",
    "    print(\"The given number is Odd.\")"
   ]
  },
  {
   "cell_type": "markdown",
   "id": "df716608",
   "metadata": {},
   "source": [
    "# Q18. What are boolean operator?"
   ]
  },
  {
   "cell_type": "markdown",
   "id": "b1d84fd1",
   "metadata": {},
   "source": [
    "Ans:\n",
    "* Python **Boolean operators** are \"and\", \"or\" and \"not\".\n",
    "* The \"or\" and \"and\" are short-circuit operators in python."
   ]
  },
  {
   "cell_type": "markdown",
   "id": "d6f5a750",
   "metadata": {},
   "source": [
    "# Q19. What will the output of the following?\n",
    "```\n",
    "1 or 0\n",
    "\n",
    "0 and 0\n",
    "\n",
    "True and False and True\n",
    "\n",
    "1 or 0 or 0\n",
    "```"
   ]
  },
  {
   "cell_type": "code",
   "execution_count": 8,
   "id": "f62090f2",
   "metadata": {},
   "outputs": [
    {
     "name": "stdout",
     "output_type": "stream",
     "text": [
      "1\n",
      "0\n",
      "False\n",
      "1\n"
     ]
    }
   ],
   "source": [
    "print(1 or 0)\n",
    "print(0 and 0)\n",
    "print(True and False and True)\n",
    "print(1 or 0 or 0)"
   ]
  },
  {
   "cell_type": "markdown",
   "id": "0fe714e5",
   "metadata": {},
   "source": [
    "# Q20. What are conditional statements in Python?"
   ]
  },
  {
   "cell_type": "markdown",
   "id": "3a2467f4",
   "metadata": {},
   "source": [
    "Ans: \n",
    "- A **conditional statements** in python, also called a condition constructs, is a statement that accommodates a condition inside itself. This condition is constructed using the bitwise, boolean, and comparison operators in Python."
   ]
  },
  {
   "cell_type": "markdown",
   "id": "23f7ac75",
   "metadata": {},
   "source": [
    "# Q21. What is use of 'if', 'elif' and 'else' keywords?"
   ]
  },
  {
   "cell_type": "markdown",
   "id": "e572fb52",
   "metadata": {},
   "source": [
    "Ans: The if/elif/else structure is a common way to control the flow of a program, allowing you to execute specific blocks of code depending on the value of some data.\n",
    "1. **if statement**\n",
    "* If the condition following the keyword \"if\" evaluates as true, the block of code will execute. Note that parentheses are not used before and after the condition check as in other languages instead indentation is used.\n",
    "2. **elif statement**\n",
    "* Multiple conditions can be checked by including one or more \"elif\" checks after your initial \"if\" statement.\n",
    "3. **else statement**\n",
    "* You can optionally add an else response that will execute if the \"if\" condition is false."
   ]
  },
  {
   "cell_type": "markdown",
   "id": "883bd395",
   "metadata": {},
   "source": [
    "# Q22. Write a code to take the age of person as an input and if age >= 18 display \"I can vote\". If age is < 18 display \"I can't vote\"."
   ]
  },
  {
   "cell_type": "code",
   "execution_count": 10,
   "id": "4bbd4833",
   "metadata": {},
   "outputs": [
    {
     "name": "stdout",
     "output_type": "stream",
     "text": [
      "Enter your age: 22\n",
      "I can vote.\n"
     ]
    }
   ],
   "source": [
    "age = int(input(\"Enter your age: \"))\n",
    "if age >= 18:\n",
    "    print(\"I can vote.\")\n",
    "else:\n",
    "    print(\"I can't vote.\")"
   ]
  },
  {
   "cell_type": "markdown",
   "id": "5cb359ec",
   "metadata": {},
   "source": [
    "# Q23. Write a code that displays the sum of all the even numbers from the given list.\n",
    "```\n",
    "numbers = [12, 75, 150, 180, 145, 525, 50]\n",
    "```"
   ]
  },
  {
   "cell_type": "code",
   "execution_count": 11,
   "id": "6cc548dc",
   "metadata": {},
   "outputs": [
    {
     "name": "stdout",
     "output_type": "stream",
     "text": [
      "392\n"
     ]
    }
   ],
   "source": [
    "numbers = [12, 75, 150, 180, 145, 525, 50]\n",
    "sum = 0\n",
    "for number in numbers:\n",
    "    if number % 2 == 0:\n",
    "        sum += number\n",
    "print(sum)"
   ]
  },
  {
   "cell_type": "markdown",
   "id": "033d50d0",
   "metadata": {},
   "source": [
    "# Q24. Write a code to take 3 numbers as an input from the user and display the greatest no as output."
   ]
  },
  {
   "cell_type": "code",
   "execution_count": 12,
   "id": "2a997d80",
   "metadata": {},
   "outputs": [
    {
     "name": "stdout",
     "output_type": "stream",
     "text": [
      "Enter the first number: 45\n",
      "Enter the second number: 92\n",
      "Enter the third number: 23\n",
      "The greatest number is:  92\n"
     ]
    }
   ],
   "source": [
    "a = int(input(\"Enter the first number: \"))\n",
    "b = int(input(\"Enter the second number: \"))\n",
    "c = int(input(\"Enter the third number: \"))\n",
    "if a > b and a > c:\n",
    "    print(\"The greatest number is: \", a)\n",
    "elif b > c and b > a:\n",
    "    print(\"The greatest number is: \", b)\n",
    "else:\n",
    "    print(\"The greatest number is: \", c)"
   ]
  },
  {
   "cell_type": "markdown",
   "id": "ce61ccb4",
   "metadata": {},
   "source": [
    "# Q25. Write a program to display only those numbers from a list that satisfy the following conditions\n",
    "```\n",
    "- The number must be divisible by five\n",
    "- If the number is greater than 150, then skip it and move to the next number\n",
    "- If the number is greater than 500, then stop the loop\n",
    "```"
   ]
  },
  {
   "cell_type": "code",
   "execution_count": 13,
   "id": "1a96b477",
   "metadata": {},
   "outputs": [
    {
     "name": "stdout",
     "output_type": "stream",
     "text": [
      "75\n",
      "150\n",
      "145\n"
     ]
    }
   ],
   "source": [
    "numbers = [12, 75, 150, 180, 145, 525, 50]\n",
    "for number in numbers:\n",
    "    if number > 500:\n",
    "        break\n",
    "    elif number > 150:\n",
    "        continue\n",
    "    elif number % 5 == 0:\n",
    "        print(number)"
   ]
  }
 ],
 "metadata": {
  "kernelspec": {
   "display_name": "Python 3 (ipykernel)",
   "language": "python",
   "name": "python3"
  },
  "language_info": {
   "codemirror_mode": {
    "name": "ipython",
    "version": 3
   },
   "file_extension": ".py",
   "mimetype": "text/x-python",
   "name": "python",
   "nbconvert_exporter": "python",
   "pygments_lexer": "ipython3",
   "version": "3.9.12"
  }
 },
 "nbformat": 4,
 "nbformat_minor": 5
}

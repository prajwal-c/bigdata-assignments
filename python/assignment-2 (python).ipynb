{
 "cells": [
  {
   "cell_type": "markdown",
   "id": "d29c91b8",
   "metadata": {},
   "source": [
    "# Assignment Part-2 (Solutions)"
   ]
  },
  {
   "cell_type": "markdown",
   "id": "96db68c8",
   "metadata": {},
   "source": [
    "## Q1. Why do we call Python as a general purpose and high-level programming language?"
   ]
  },
  {
   "cell_type": "markdown",
   "id": "618f5e44",
   "metadata": {},
   "source": [
    "Ans:\n",
    "- Python is a **general-purpose programming language**. This means it can be used in a variety of different applications, including task automation and the development of software, web applications, and games.\n",
    "- Python is a very **high-level programming language** because its syntax so closely resembles the English language. Higher-level means it’s more readable to humans and less readable to computers."
   ]
  },
  {
   "cell_type": "markdown",
   "id": "54415648",
   "metadata": {},
   "source": [
    "## Q2. Why is Python called a dynamically typed language?"
   ]
  },
  {
   "cell_type": "markdown",
   "id": "d4de81c3",
   "metadata": {},
   "source": [
    "Ans:\n",
    "- Ans: Python is a **dynamically typed language**. It doesn’t know about the type of the variable until the code is run. So declaration is of no use. What it does is, It stores that value at some memory location and then binds that variable name to that memory container. And makes the contents of the container accessible through that variable name. So the data type does not matter. As it will get to know the type of the value at run-time."
   ]
  },
  {
   "cell_type": "markdown",
   "id": "db42e905",
   "metadata": {},
   "source": [
    "## Q3. List some pros and cons of Python programming language?"
   ]
  },
  {
   "cell_type": "markdown",
   "id": "bd455868",
   "metadata": {},
   "source": [
    "Ans:\n",
    "### Pros:\n",
    "1. **Beginner-Friendly** - Python is an excellent platform for beginners who want to step into coding. This programming language is easy to learn, understand and code as it does not include too many technicalities.\n",
    "2. **Large Community** - The Python community boasts many coders, developers, professionals, and students on the same platform, helping one another and bringing the best out of it. \n",
    "3. **Flexible and Extensible** - Python is extremely flexible and can be extended to other languages. Developers can write code in C  and C++ and build new features in the dynamically-typed language.\n",
    "4. **Extensive Libraries** - Python features an extensive set of libraries and contains code for various purposes like documentation-generation, regular expressions, web-browsers, unit-testing, CGI, databases, image manipulation, etc. Hence, it eliminates the need to write the complete code manually.\n",
    "\n",
    "### Cons:\n",
    "1. **Slower than Compiled Languages** - Python is slow compared to other non-compiled languages as it requires a lot of computational power. So, this is the thing that you need to look at before choosing Python.\n",
    "2. **Python’s Memory Consumption and Garbage Collection** - Python language comes with high memory usage, and the high memory consumption should be tackled carefully during the project. It uses reference counting in its garbage collection, which often leads to potential memory losses.\n",
    "3. **Issues with Design** - Python developers sometimes have to deal with complicated designs. Therefore, highly efficient and experienced developers are preferred over beginners.\n",
    "4. **Python is Dynamically Typed** - Developers working in Data Science and Machine Learning projects prefer statically-typed language over dynamically typed language. The reason is that the statically typed language potentially minimizes a lot of errors and bugs in the system."
   ]
  },
  {
   "cell_type": "markdown",
   "id": "44b75588",
   "metadata": {},
   "source": [
    "# Q4. In what all domains can we use Python?"
   ]
  },
  {
   "cell_type": "markdown",
   "id": "1437a436",
   "metadata": {},
   "source": [
    "Ans:\n",
    "1. **Data Science** - Python is an entrusted language for scientific computing tasks, including analysis and visualization of large data sets. The use cases of Python in data science stems from the large and active ecosystem of third-party packages such as numpy, pandas, Sci-kit etc....\n",
    "2. **Automation** - Automating repetitive tasks such as sending emails & voicemails, organizing files & folders, launching programs, filling out forms, etc. can be automated through scripting.\n",
    "3. **Application Development** - Python is a favourable choice for web application development. Python integrates well with other programming languages and has some amazing web frameworks that boost the application development cycle that include django, flask etc.....\n",
    "4. **AI & Machine Learning** - Python’s pre-built libraries are the reason why it is preferred for AI & machine learning development.\n",
    "5. **Audio/Video Applications** - Python is a sought-after programming language for creating audio/video applications. An example of this is the Spotify app that’s built using Python programming language."
   ]
  },
  {
   "cell_type": "markdown",
   "id": "03695d5a",
   "metadata": {},
   "source": [
    "# Q5. What are variable and how can we declare them?"
   ]
  },
  {
   "cell_type": "markdown",
   "id": "25481dcb",
   "metadata": {},
   "source": [
    "Ans:\n",
    "* A **variable in Python** is a reserved memory location to store values. In other words, a variable in a python program gives data to the computer for processing.\n",
    "---------------------------------------------------------\n",
    "* **To declare a variable** −\n",
    "1. Name the variable\n",
    "2. Assign a value to it. (can be integer, string, boolean etc......)"
   ]
  },
  {
   "cell_type": "code",
   "execution_count": 14,
   "id": "eb075469",
   "metadata": {},
   "outputs": [],
   "source": [
    "variable_str = \"Prajwal\""
   ]
  },
  {
   "cell_type": "markdown",
   "id": "fcf3dfd4",
   "metadata": {},
   "source": [
    "-------------------------------------------------------"
   ]
  },
  {
   "cell_type": "markdown",
   "id": "0129ab3d",
   "metadata": {},
   "source": [
    "# Q6. How can we take an input from the user in Python?"
   ]
  },
  {
   "cell_type": "markdown",
   "id": "5a390feb",
   "metadata": {},
   "source": [
    "Ans:\n",
    "* We can use the **input()** method to take user input in python. The input() method, when executed, takes an option string argument which is shown as a prompt to the user."
   ]
  },
  {
   "cell_type": "markdown",
   "id": "3c402f11",
   "metadata": {},
   "source": [
    "# Q7. What is the default datatype of the value that has been taken as an input using input() function?"
   ]
  },
  {
   "cell_type": "markdown",
   "id": "29884205",
   "metadata": {},
   "source": [
    "Ans:\n",
    "- The input() function by default returns the value as **string datatype**."
   ]
  },
  {
   "cell_type": "markdown",
   "id": "e1af39fd",
   "metadata": {},
   "source": [
    "# Q8. What is type casting?"
   ]
  },
  {
   "cell_type": "markdown",
   "id": "f52d7174",
   "metadata": {},
   "source": [
    "Ans:\n",
    "* **Converting one datatype into another** is known as type casting or type-conversion."
   ]
  },
  {
   "cell_type": "markdown",
   "id": "e280ec74",
   "metadata": {},
   "source": [
    "# Q9. Can we take more than one input from the user using single input() function? If yes, how? If no, why?"
   ]
  },
  {
   "cell_type": "markdown",
   "id": "97433938",
   "metadata": {},
   "source": [
    "Ans\n",
    "* **Yes**, We can take more than one input from the user using single input() function. In this case we can split our input using the .split(separator) method of the string, which returns a list of parts of the given string. separator argument is optional: if the user enters the numbers separated by whitespace characters, you don't need to pass this argument, otherwise you need to pass a separator."
   ]
  },
  {
   "cell_type": "code",
   "execution_count": 5,
   "id": "89d853ff",
   "metadata": {},
   "outputs": [
    {
     "name": "stdout",
     "output_type": "stream",
     "text": [
      "Enter the numbers... 1 2 3 4 5\n",
      "['1', '2', '3', '4', '5']\n"
     ]
    }
   ],
   "source": [
    "numbers = input(\"Enter the numbers... \").split(\" \")\n",
    "print(numbers)"
   ]
  },
  {
   "cell_type": "markdown",
   "id": "16575433",
   "metadata": {},
   "source": [
    "- We can take more than one input from the user using single input() function, by using looping statements"
   ]
  },
  {
   "cell_type": "code",
   "execution_count": 1,
   "id": "f14bf087",
   "metadata": {},
   "outputs": [
    {
     "name": "stdout",
     "output_type": "stream",
     "text": [
      "Enter the number-1: 34\n",
      "Enter the number-2: 65\n",
      "Enter the number-3: 76\n",
      "Enter the number-4: 23\n",
      "Enter the number-5: 78\n",
      "[34, 65, 76, 23, 78]\n"
     ]
    }
   ],
   "source": [
    "user_input_arr = []\n",
    "for i in range(0, 5):\n",
    "    user_input_arr.append(int(input(f\"Enter the number-{i+1}: \")))\n",
    "print(user_input_arr)"
   ]
  },
  {
   "cell_type": "markdown",
   "id": "c380741f",
   "metadata": {},
   "source": [
    "# Q10. What are keywords?"
   ]
  },
  {
   "cell_type": "markdown",
   "id": "30dc037b",
   "metadata": {},
   "source": [
    "Ans:\n",
    "- **Python keywords** are reserved words. They are used by python interpreters to understand the program. \n",
    "- **Keywords** define the structure of programs. We can’t use keywords to name program entities such as variables, classes, and functions."
   ]
  },
  {
   "cell_type": "markdown",
   "id": "63bf7971",
   "metadata": {},
   "source": [
    "# Q11. Can we use keywords as a variable? Support your answer with reason."
   ]
  },
  {
   "cell_type": "markdown",
   "id": "e8b91ea7",
   "metadata": {},
   "source": [
    "Ans:\n",
    "* **No**, Keywords are case sensitive in python. You can’t use a keyword as variable name, function name or any other identifier name.\n",
    "* Typically, when a programmer attempts to use a keyword for a variable or function name, a compilation error will be triggered. In most modern editors, the keywords are automatically set to have a particular text colour to remind or inform the programmers that they are keywords."
   ]
  },
  {
   "cell_type": "markdown",
   "id": "2c9e5f9a",
   "metadata": {},
   "source": [
    "# Q12. What is indentation? What's the use of indentation in Python?"
   ]
  },
  {
   "cell_type": "markdown",
   "id": "fb30273d",
   "metadata": {},
   "source": [
    "Ans:\n",
    "* Indentation refers to the spaces at the beginning of a code line.\n",
    "* Python uses indentation to indicate a block of code. Where in other programming languages the indentation in code is for readability only, the indentation in Python is very important.\n",
    "* Indentation is a very important concept of Python because without properly indenting the Python code, you will end up seeing IndentationError and the code will not get compiled."
   ]
  },
  {
   "cell_type": "markdown",
   "id": "ce3504e8",
   "metadata": {},
   "source": [
    "# Q13. How can we throw some output in Python?"
   ]
  },
  {
   "cell_type": "markdown",
   "id": "45085874",
   "metadata": {},
   "source": [
    "Ans:\n",
    "* we can throw some output in Python using print() function.\n",
    "* In the print() function, you output multiple variables, separated by a comma."
   ]
  },
  {
   "cell_type": "markdown",
   "id": "a8b87e1e",
   "metadata": {},
   "source": [
    "# Q14. What are operators in Python?"
   ]
  },
  {
   "cell_type": "markdown",
   "id": "550375c2",
   "metadata": {},
   "source": [
    "Ans:\n",
    "* **Operators** in python are used to performing operations on variables and values according to their use.\n",
    "* Python language supports the following types of operators.\n",
    "    1. Arithmetic Operators\n",
    "    2. Bitwise Operators\n",
    "    3. Membership Operators\n",
    "    4. Identity Operators\n",
    "    5. Comparison Operators\n",
    "    6. Assignment Operators\n",
    "    7. Logical Operators"
   ]
  },
  {
   "cell_type": "markdown",
   "id": "b37bd5ba",
   "metadata": {},
   "source": [
    "# Q15. What is difference between / and // operators?"
   ]
  },
  {
   "cell_type": "markdown",
   "id": "9ecb36fd",
   "metadata": {},
   "source": [
    "Ans:\n",
    "- **Normal Division (/)** : Divides the value on the left by the one on the right. Notice that division results in a floating-point value.\n",
    "- **Floor Division (//)** : Divides and returns the integer value."
   ]
  },
  {
   "cell_type": "markdown",
   "id": "b02e0c78",
   "metadata": {},
   "source": [
    "# Q16. Write a code that gives following as an output.\n",
    "iNeuroniNeuroniNeuroniNeuron"
   ]
  },
  {
   "cell_type": "code",
   "execution_count": 6,
   "id": "8e3c7320",
   "metadata": {},
   "outputs": [
    {
     "name": "stdout",
     "output_type": "stream",
     "text": [
      "iNeuroniNeuroniNeuroniNeuron\n"
     ]
    }
   ],
   "source": [
    "variable_str = \"iNeuron\"\n",
    "print(variable_str * 4)"
   ]
  },
  {
   "cell_type": "markdown",
   "id": "07c2ecf7",
   "metadata": {},
   "source": [
    "# Q17. Write a code to take a number as an input from the user and check if the number is odd or even."
   ]
  },
  {
   "cell_type": "code",
   "execution_count": null,
   "id": "cfef3bb8",
   "metadata": {},
   "outputs": [],
   "source": [
    "user_input = int(input(\"Enter a number: \"))\n",
    "if user_input % 2 == 0:\n",
    "    print(\"The given number is Even.\")\n",
    "else:\n",
    "    print(\"The given number is Odd.\")"
   ]
  },
  {
   "cell_type": "markdown",
   "id": "df716608",
   "metadata": {},
   "source": [
    "# Q18. What are boolean operator?"
   ]
  },
  {
   "cell_type": "markdown",
   "id": "b1d84fd1",
   "metadata": {},
   "source": [
    "Ans:\n",
    "* Python **Boolean operators** are \"and\", \"or\" and \"not\".\n",
    "* The \"or\" and \"and\" are short-circuit operators in python."
   ]
  },
  {
   "cell_type": "markdown",
   "id": "d6f5a750",
   "metadata": {},
   "source": [
    "# Q19. What will the output of the following?\n",
    "```\n",
    "1 or 0\n",
    "\n",
    "0 and 0\n",
    "\n",
    "True and False and True\n",
    "\n",
    "1 or 0 or 0\n",
    "```"
   ]
  },
  {
   "cell_type": "code",
   "execution_count": 8,
   "id": "f62090f2",
   "metadata": {},
   "outputs": [
    {
     "name": "stdout",
     "output_type": "stream",
     "text": [
      "1\n",
      "0\n",
      "False\n",
      "1\n"
     ]
    }
   ],
   "source": [
    "print(1 or 0)\n",
    "print(0 and 0)\n",
    "print(True and False and True)\n",
    "print(1 or 0 or 0)"
   ]
  },
  {
   "cell_type": "markdown",
   "id": "0fe714e5",
   "metadata": {},
   "source": [
    "# Q20. What are conditional statements in Python?"
   ]
  },
  {
   "cell_type": "markdown",
   "id": "3a2467f4",
   "metadata": {},
   "source": [
    "Ans: \n",
    "- A **conditional statements** in python, also called a condition constructs, is a statement that accommodates a condition inside itself. This condition is constructed using the bitwise, boolean, and comparison operators in Python."
   ]
  },
  {
   "cell_type": "markdown",
   "id": "23f7ac75",
   "metadata": {},
   "source": [
    "# Q21. What is use of 'if', 'elif' and 'else' keywords?"
   ]
  },
  {
   "cell_type": "markdown",
   "id": "e572fb52",
   "metadata": {},
   "source": [
    "Ans: The if/elif/else structure is a common way to control the flow of a program, allowing you to execute specific blocks of code depending on the value of some data.\n",
    "1. **if statement**\n",
    "* If the condition following the keyword \"if\" evaluates as true, the block of code will execute. Note that parentheses are not used before and after the condition check as in other languages instead indentation is used.\n",
    "2. **elif statement**\n",
    "* Multiple conditions can be checked by including one or more \"elif\" checks after your initial \"if\" statement.\n",
    "3. **else statement**\n",
    "* You can optionally add an else response that will execute if the \"if\" condition is false."
   ]
  },
  {
   "cell_type": "markdown",
   "id": "883bd395",
   "metadata": {},
   "source": [
    "# Q22. Write a code to take the age of person as an input and if age >= 18 display \"I can vote\". If age is < 18 display \"I can't vote\"."
   ]
  },
  {
   "cell_type": "code",
   "execution_count": 10,
   "id": "4bbd4833",
   "metadata": {},
   "outputs": [
    {
     "name": "stdout",
     "output_type": "stream",
     "text": [
      "Enter your age: 22\n",
      "I can vote.\n"
     ]
    }
   ],
   "source": [
    "age = int(input(\"Enter your age: \"))\n",
    "if age >= 18:\n",
    "    print(\"I can vote.\")\n",
    "else:\n",
    "    print(\"I can't vote.\")"
   ]
  },
  {
   "cell_type": "markdown",
   "id": "5cb359ec",
   "metadata": {},
   "source": [
    "# Q23. Write a code that displays the sum of all the even numbers from the given list.\n",
    "```\n",
    "numbers = [12, 75, 150, 180, 145, 525, 50]\n",
    "```"
   ]
  },
  {
   "cell_type": "code",
   "execution_count": 11,
   "id": "6cc548dc",
   "metadata": {},
   "outputs": [
    {
     "name": "stdout",
     "output_type": "stream",
     "text": [
      "392\n"
     ]
    }
   ],
   "source": [
    "numbers = [12, 75, 150, 180, 145, 525, 50]\n",
    "sum = 0\n",
    "for number in numbers:\n",
    "    if number % 2 == 0:\n",
    "        sum += number\n",
    "print(sum)"
   ]
  },
  {
   "cell_type": "markdown",
   "id": "033d50d0",
   "metadata": {},
   "source": [
    "# Q24. Write a code to take 3 numbers as an input from the user and display the greatest no as output."
   ]
  },
  {
   "cell_type": "code",
   "execution_count": 12,
   "id": "2a997d80",
   "metadata": {},
   "outputs": [
    {
     "name": "stdout",
     "output_type": "stream",
     "text": [
      "Enter the first number: 45\n",
      "Enter the second number: 92\n",
      "Enter the third number: 23\n",
      "The greatest number is:  92\n"
     ]
    }
   ],
   "source": [
    "a = int(input(\"Enter the first number: \"))\n",
    "b = int(input(\"Enter the second number: \"))\n",
    "c = int(input(\"Enter the third number: \"))\n",
    "if a > b and a > c:\n",
    "    print(\"The greatest number is: \", a)\n",
    "elif b > c and b > a:\n",
    "    print(\"The greatest number is: \", b)\n",
    "else:\n",
    "    print(\"The greatest number is: \", c)"
   ]
  },
  {
   "cell_type": "markdown",
   "id": "ce61ccb4",
   "metadata": {},
   "source": [
    "# Q25. Write a program to display only those numbers from a list that satisfy the following conditions\n",
    "```\n",
    "- The number must be divisible by five\n",
    "- If the number is greater than 150, then skip it and move to the next number\n",
    "- If the number is greater than 500, then stop the loop\n",
    "```"
   ]
  },
  {
   "cell_type": "code",
   "execution_count": 13,
   "id": "1a96b477",
   "metadata": {},
   "outputs": [
    {
     "name": "stdout",
     "output_type": "stream",
     "text": [
      "75\n",
      "150\n",
      "145\n"
     ]
    }
   ],
   "source": [
    "numbers = [12, 75, 150, 180, 145, 525, 50]\n",
    "for number in numbers:\n",
    "    if number > 500:\n",
    "        break\n",
    "    elif number > 150:\n",
    "        continue\n",
    "    elif number % 5 == 0:\n",
    "        print(number)"
   ]
  },
  {
   "cell_type": "markdown",
   "id": "26a1e534",
   "metadata": {},
   "source": [
    "# Q26. What is a string? How can we declare string in Python?"
   ]
  },
  {
   "cell_type": "markdown",
   "id": "2cc9cc33",
   "metadata": {},
   "source": [
    "Ans: \n",
    "- In Python, string is an immutable sequence data type. It is the sequence of Unicode characters.\n",
    "- Python strings are immutable, and they're one of the basic data types. We can declare them using single, double, or triple quotes, or using the str() function."
   ]
  },
  {
   "cell_type": "markdown",
   "id": "9dbd1655",
   "metadata": {},
   "source": [
    "# Q27. How can we access the string using its index?"
   ]
  },
  {
   "cell_type": "markdown",
   "id": "a41098b2",
   "metadata": {},
   "source": [
    "Ans: You can access the characters in a string by referring to its index number inside square brackets [] ."
   ]
  },
  {
   "cell_type": "markdown",
   "id": "3af0b171",
   "metadata": {},
   "source": [
    "# Q28. Write a code to get the desired output of the following\n",
    "\n",
    "string = \"Big Data iNeuron\"       \n",
    "desired_output = \"iNeuron\""
   ]
  },
  {
   "cell_type": "code",
   "execution_count": 4,
   "id": "83e5af71",
   "metadata": {},
   "outputs": [
    {
     "name": "stdout",
     "output_type": "stream",
     "text": [
      "iNeuron\n"
     ]
    }
   ],
   "source": [
    "string = \"Big Data iNeuron\"\n",
    "string_list = string.split(\" \")\n",
    "print(string_list[len(string_list)-1])"
   ]
  },
  {
   "cell_type": "markdown",
   "id": "2d88b323",
   "metadata": {},
   "source": [
    "# Q29. Write a code to get the desired output of the following\n",
    "\n",
    "string = \"Big Data iNeuron\"        \n",
    "desired_output = \"norueNi\""
   ]
  },
  {
   "cell_type": "code",
   "execution_count": 5,
   "id": "d57821b7",
   "metadata": {},
   "outputs": [
    {
     "name": "stdout",
     "output_type": "stream",
     "text": [
      "norueNi\n"
     ]
    }
   ],
   "source": [
    "string = \"Big Data iNeuron\"\n",
    "string_list = string.split(\" \")\n",
    "print(string_list[len(string_list)-1][::-1])"
   ]
  },
  {
   "cell_type": "markdown",
   "id": "72fb61b8",
   "metadata": {},
   "source": [
    "# Q30. Resverse the string given in the above question."
   ]
  },
  {
   "cell_type": "code",
   "execution_count": 6,
   "id": "b0ad31f4",
   "metadata": {},
   "outputs": [
    {
     "name": "stdout",
     "output_type": "stream",
     "text": [
      "norueNi ataD giB\n"
     ]
    }
   ],
   "source": [
    "string = \"Big Data iNeuron\"\n",
    "print(string[::-1])"
   ]
  },
  {
   "cell_type": "markdown",
   "id": "796211d6",
   "metadata": {},
   "source": [
    "# Q31. How can you delete entire string at once?"
   ]
  },
  {
   "cell_type": "markdown",
   "id": "aa97b3d8",
   "metadata": {},
   "source": [
    "Ans: you can remove the entire string variable using the **del command**."
   ]
  },
  {
   "cell_type": "markdown",
   "id": "c20cc494",
   "metadata": {},
   "source": [
    "# Q32. What is escape sequence?"
   ]
  },
  {
   "cell_type": "markdown",
   "id": "fbfa33c0",
   "metadata": {},
   "source": [
    "Ans: An escape sequence is a sequence of characters that, when used inside a character or string, does not represent itself but is converted into another character or series of characters that may be difficult or impossible to express directly, like newline (\\n), tab (\\t), and so on."
   ]
  },
  {
   "cell_type": "markdown",
   "id": "a9c6a370",
   "metadata": {},
   "source": [
    "# Q33. How can you print the below string?\n",
    "\n",
    "'iNeuron's Big Data Course'"
   ]
  },
  {
   "cell_type": "code",
   "execution_count": 7,
   "id": "3f599960",
   "metadata": {},
   "outputs": [
    {
     "name": "stdout",
     "output_type": "stream",
     "text": [
      "'iNeuron's Big Data Course'\n"
     ]
    }
   ],
   "source": [
    "print(\"'iNeuron's Big Data Course'\")"
   ]
  },
  {
   "cell_type": "markdown",
   "id": "21905238",
   "metadata": {},
   "source": [
    "# Q34. What is a list in Python?"
   ]
  },
  {
   "cell_type": "markdown",
   "id": "63a5442c",
   "metadata": {},
   "source": [
    "Ans: In Python, a list is created by placing elements inside square brackets [] , separated by commas. A list can have any number of items and they may be of different types (integer, float, string, etc.)"
   ]
  },
  {
   "cell_type": "markdown",
   "id": "3c9446f5",
   "metadata": {},
   "source": [
    "# Q35. How can you create a list in Python?"
   ]
  },
  {
   "cell_type": "markdown",
   "id": "e04fffb4",
   "metadata": {},
   "source": [
    "Ans: In Python, a list is created by placing elements inside square brackets [] , separated by commas."
   ]
  },
  {
   "cell_type": "markdown",
   "id": "f0d44f71",
   "metadata": {},
   "source": [
    "# Q36. How can we access the elements in a list?"
   ]
  },
  {
   "cell_type": "markdown",
   "id": "ed00f494",
   "metadata": {},
   "source": [
    "Ans: To access values in lists, use the square brackets for slicing along with the index or indices to obtain value available at that index."
   ]
  },
  {
   "cell_type": "markdown",
   "id": "2785f930",
   "metadata": {},
   "source": [
    "# Q37. Write a code to access the word \"iNeuron\" from the given list.\n",
    "\n",
    "lst = [1,2,3,\"Hi\",[45,54, \"iNeuron\"], \"Big Data\"]"
   ]
  },
  {
   "cell_type": "code",
   "execution_count": 8,
   "id": "73954b17",
   "metadata": {},
   "outputs": [
    {
     "name": "stdout",
     "output_type": "stream",
     "text": [
      "iNeuron\n"
     ]
    }
   ],
   "source": [
    "lst = [1,2,3,\"Hi\",[45,54, \"iNeuron\"], \"Big Data\"]\n",
    "print(lst[4][2])"
   ]
  },
  {
   "cell_type": "markdown",
   "id": "7448001b",
   "metadata": {},
   "source": [
    "# Q38. Take a list as an input from the user and find the length of the list."
   ]
  },
  {
   "cell_type": "code",
   "execution_count": 9,
   "id": "2ed122fa",
   "metadata": {},
   "outputs": [
    {
     "name": "stdout",
     "output_type": "stream",
     "text": [
      "3 5 6 1 8 10 12\n",
      "The length of user input list is: 7\n"
     ]
    }
   ],
   "source": [
    "user_input_list = input().split(\" \")\n",
    "print(f\"The length of user input list is: {len(user_input_list)}\")"
   ]
  },
  {
   "cell_type": "markdown",
   "id": "c6077e80",
   "metadata": {},
   "source": [
    "# Q39. Add the word \"Big\" in the 3rd index of the given list.\n",
    "\n",
    "lst = [\"Welcome\", \"to\", \"Data\", \"course\"]"
   ]
  },
  {
   "cell_type": "code",
   "execution_count": 10,
   "id": "660f27c3",
   "metadata": {},
   "outputs": [
    {
     "name": "stdout",
     "output_type": "stream",
     "text": [
      "['Welcome', 'to', 'Big', 'Data', 'course']\n"
     ]
    }
   ],
   "source": [
    "lst = [\"Welcome\", \"to\", \"Data\", \"course\"]\n",
    "lst.insert(2, \"Big\")\n",
    "print(lst)"
   ]
  },
  {
   "cell_type": "markdown",
   "id": "e965bd87",
   "metadata": {},
   "source": [
    "# Q40. What is a tuple? How is it different from list?"
   ]
  },
  {
   "cell_type": "markdown",
   "id": "5a7d3183",
   "metadata": {},
   "source": [
    "Ans:\n",
    "- Python Tuple is a collection of objects separated by commas.\n",
    "- The primary difference between tuples and lists is that tuples are immutable as opposed to lists which are mutable."
   ]
  },
  {
   "cell_type": "markdown",
   "id": "47666d7e",
   "metadata": {},
   "source": [
    "# Q41. How can you create a tuple in Python?"
   ]
  },
  {
   "cell_type": "markdown",
   "id": "20287972",
   "metadata": {},
   "source": [
    "Ans: A tuple in Python can be created by enclosing all the comma-separated elements inside the parenthesis (). Elements of the tuple are immutable and ordered."
   ]
  },
  {
   "cell_type": "markdown",
   "id": "5c8d8867",
   "metadata": {},
   "source": [
    "# Q42. Create a tuple and try to add your name in the tuple. Are you able to do it? Support your answer with reason."
   ]
  },
  {
   "cell_type": "code",
   "execution_count": 11,
   "id": "0e1779f6",
   "metadata": {},
   "outputs": [
    {
     "ename": "TypeError",
     "evalue": "'tuple' object does not support item assignment",
     "output_type": "error",
     "traceback": [
      "\u001b[1;31m---------------------------------------------------------------------------\u001b[0m",
      "\u001b[1;31mTypeError\u001b[0m                                 Traceback (most recent call last)",
      "Cell \u001b[1;32mIn [11], line 2\u001b[0m\n\u001b[0;32m      1\u001b[0m tuple1 \u001b[38;5;241m=\u001b[39m ()\n\u001b[1;32m----> 2\u001b[0m \u001b[43mtuple1\u001b[49m\u001b[43m[\u001b[49m\u001b[38;5;241;43m0\u001b[39;49m\u001b[43m]\u001b[49m \u001b[38;5;241m=\u001b[39m \u001b[38;5;124m\"\u001b[39m\u001b[38;5;124mPrajwal\u001b[39m\u001b[38;5;124m\"\u001b[39m\n",
      "\u001b[1;31mTypeError\u001b[0m: 'tuple' object does not support item assignment"
     ]
    }
   ],
   "source": [
    "tuple1 = ()\n",
    "tuple1[0] = \"Prajwal\"\n",
    "\n",
    "#We can create tuple with the items in it, we cannot add any item after it's declaration. So we are not able to add name to tuple\n",
    "# If tried we get the following error."
   ]
  },
  {
   "cell_type": "markdown",
   "id": "8fd9ecb3",
   "metadata": {},
   "source": [
    "# Q43. Can two tuple be appended. If yes, write a code for it. If not, why?"
   ]
  },
  {
   "cell_type": "code",
   "execution_count": 1,
   "id": "142aa9b3",
   "metadata": {},
   "outputs": [
    {
     "name": "stdout",
     "output_type": "stream",
     "text": [
      "('Rahul', 'Shashank', 'Vishal', 'Krish', 'Soumak')\n"
     ]
    }
   ],
   "source": [
    "# Yes, we can append(concatenate) two tuple using \"+\" operator\n",
    "tuple1 = ('Rahul', 'Shashank', 'Vishal')\n",
    "tuple2 = (\"Krish\", \"Soumak\")\n",
    "tuple3 = tuple1 + tuple2\n",
    "print(tuple3)"
   ]
  },
  {
   "cell_type": "markdown",
   "id": "8bceb696",
   "metadata": {},
   "source": [
    "# Q44. Take a tuple as an input and print the count of elements in it."
   ]
  },
  {
   "cell_type": "code",
   "execution_count": 2,
   "id": "ab6d7800",
   "metadata": {},
   "outputs": [
    {
     "name": "stdout",
     "output_type": "stream",
     "text": [
      "4 5 1 10 9\n",
      "('4', '5', '1', '10', '9')\n",
      "the count of elements in it is: 5\n"
     ]
    }
   ],
   "source": [
    "user_input_tuple = tuple(input().split(\" \"))\n",
    "print(user_input_tuple)\n",
    "print(f\"the count of elements in it is: {len(user_input_tuple)}\")"
   ]
  },
  {
   "cell_type": "markdown",
   "id": "0a32da30",
   "metadata": {},
   "source": [
    "# Q45. What are sets in Python?"
   ]
  },
  {
   "cell_type": "markdown",
   "id": "ed6b5aa4",
   "metadata": {},
   "source": [
    "Ans: set is used to convert any of the iterable to sequence of iterable elements with distinct elements."
   ]
  },
  {
   "cell_type": "markdown",
   "id": "feb09cd0",
   "metadata": {},
   "source": [
    "# Q46. How can you create a set?"
   ]
  },
  {
   "cell_type": "markdown",
   "id": "760f6d3a",
   "metadata": {},
   "source": [
    "Ans: A set is created by placing all the items (elements) inside curly braces {} , separated by comma, or by using the built-in set() function."
   ]
  },
  {
   "cell_type": "markdown",
   "id": "cf317173",
   "metadata": {},
   "source": [
    "# Q47. Create a set and add \"iNeuron\" in your set."
   ]
  },
  {
   "cell_type": "code",
   "execution_count": 4,
   "id": "6983c429",
   "metadata": {},
   "outputs": [
    {
     "name": "stdout",
     "output_type": "stream",
     "text": [
      "{'course', 'iNeuron'}\n"
     ]
    }
   ],
   "source": [
    "set1 = {\"course\"}\n",
    "set1.add(\"iNeuron\")\n",
    "print(set1)"
   ]
  },
  {
   "cell_type": "markdown",
   "id": "d0133b02",
   "metadata": {},
   "source": [
    "# Q48. Try to add multiple values using add() function."
   ]
  },
  {
   "cell_type": "code",
   "execution_count": 7,
   "id": "d872cfbc",
   "metadata": {},
   "outputs": [
    {
     "name": "stdout",
     "output_type": "stream",
     "text": [
      "{'Rahul', 'Shashank', 'Vishal', 'Soumak'}\n"
     ]
    }
   ],
   "source": [
    "set1 = {\"Shashank\"}\n",
    "set1.add(\"Vishal\")\n",
    "set1.add(\"Rahul\")\n",
    "set1.add(\"Vishal\")\n",
    "set1.add(\"Soumak\")\n",
    "\n",
    "print(set1)"
   ]
  },
  {
   "cell_type": "markdown",
   "id": "38f209fc",
   "metadata": {},
   "source": [
    "# Q49. How is update() different from add()?"
   ]
  },
  {
   "cell_type": "markdown",
   "id": "592edafa",
   "metadata": {},
   "source": [
    "Ans: **add()** is intended for a single element, while **update()** is for the introduction of other sets."
   ]
  },
  {
   "cell_type": "markdown",
   "id": "25e04b67",
   "metadata": {},
   "source": [
    "# Q50. What is clear() in sets?"
   ]
  },
  {
   "cell_type": "markdown",
   "id": "28b9a0ad",
   "metadata": {},
   "source": [
    "Ans: The **clear()** method removes all elements in a set."
   ]
  },
  {
   "cell_type": "markdown",
   "id": "1f62a495",
   "metadata": {},
   "source": [
    "# Q51. What is frozen set?"
   ]
  },
  {
   "cell_type": "markdown",
   "id": "d41006c0",
   "metadata": {},
   "source": [
    "Ans: The **frozenset()** function returns an immutable frozenset object initialized with elements from the given iterable."
   ]
  },
  {
   "cell_type": "markdown",
   "id": "32bb250d",
   "metadata": {},
   "source": [
    "# Q52. How is frozen set different from set?"
   ]
  },
  {
   "cell_type": "markdown",
   "id": "e12949f4",
   "metadata": {},
   "source": [
    "Ans: Frozenset is similar to set in Python, except that frozensets are immutable, which implies that once generated, elements from the frozenset cannot be added or removed."
   ]
  },
  {
   "cell_type": "markdown",
   "id": "559c965c",
   "metadata": {},
   "source": [
    "# Q53. What is union() in sets? Explain via code."
   ]
  },
  {
   "cell_type": "markdown",
   "id": "60261cc3",
   "metadata": {},
   "source": [
    "Ans: Union of a list means, we must take all the elements from list A and list B (there can be more than two lists) and put them inside a single new list."
   ]
  },
  {
   "cell_type": "code",
   "execution_count": 3,
   "id": "91b035e0",
   "metadata": {},
   "outputs": [
    {
     "name": "stdout",
     "output_type": "stream",
     "text": [
      "[32, 2, 12, 14, 15, 16, 48, 47, 20, 52, 54, 23, 26]\n"
     ]
    }
   ],
   "source": [
    "def Union(lst1, lst2):\n",
    "    final_list = list(set().union(lst1, lst2))\n",
    "    return final_list\n",
    " \n",
    "# Driver Code\n",
    "lst1 = [23, 15, 2, 14, 14, 16, 20 ,52]\n",
    "lst2 = [2, 48, 15, 12, 26, 32, 47, 54]\n",
    "print(Union(lst1, lst2))"
   ]
  },
  {
   "cell_type": "markdown",
   "id": "9a53dcc1",
   "metadata": {},
   "source": [
    "# Q54. What is intersection() in sets? Explain via code."
   ]
  },
  {
   "cell_type": "markdown",
   "id": "55c9392d",
   "metadata": {},
   "source": [
    "Ans: Intersection of two list means we need to take all those elements which are common to both of the initial lists and store them into another list."
   ]
  },
  {
   "cell_type": "code",
   "execution_count": 4,
   "id": "d8e203ad",
   "metadata": {},
   "outputs": [
    {
     "name": "stdout",
     "output_type": "stream",
     "text": [
      "{9, 11}\n"
     ]
    }
   ],
   "source": [
    "def Intersection(lst1, lst2):\n",
    "    return set(lst1).intersection(lst2)\n",
    "     \n",
    "# Driver Code\n",
    "lst1 = [ 4, 9, 1, 17, 11, 26, 28, 28, 26, 66, 91]\n",
    "lst2 = [9, 9, 74, 21, 45, 11, 63]\n",
    "print(Intersection(lst1, lst2))"
   ]
  },
  {
   "cell_type": "markdown",
   "id": "723a56bb",
   "metadata": {},
   "source": [
    "# Q55. What is dictionary in Python?"
   ]
  },
  {
   "cell_type": "markdown",
   "id": "6bd1d306",
   "metadata": {},
   "source": [
    "Ans: Dictionary in Python is a collection of keys values, used to store data values like a map, which, unlike other data types which hold only a single value as an element."
   ]
  },
  {
   "cell_type": "markdown",
   "id": "3b890c7a",
   "metadata": {},
   "source": [
    "# Q56. How is dictionary different from all other data structures."
   ]
  },
  {
   "cell_type": "markdown",
   "id": "f71c3066",
   "metadata": {},
   "source": [
    "Ans: \n",
    "- A dictionary is a general-purpose data structure for storing a group of objects. A dictionary has a set of keys and each key has a single associated value.\n",
    "- A dictionary has a set of keys and each key has a single associated value."
   ]
  },
  {
   "cell_type": "markdown",
   "id": "e2573a9d",
   "metadata": {},
   "source": [
    "# Q57. How can we delare a dictionary in Python?"
   ]
  },
  {
   "cell_type": "markdown",
   "id": "2ce6c972",
   "metadata": {},
   "source": [
    "Ans: \n",
    "- The first way is by using a set of curly braces, {}.\n",
    "- The second way is by using the built-in dict() function."
   ]
  },
  {
   "cell_type": "code",
   "execution_count": 5,
   "id": "7eb2b835",
   "metadata": {},
   "outputs": [
    {
     "name": "stdout",
     "output_type": "stream",
     "text": [
      "{}\n",
      "{}\n"
     ]
    }
   ],
   "source": [
    "#create an empty dictionary (first way)\n",
    "my_dictionary = {}\n",
    "\n",
    "print(my_dictionary)\n",
    "\n",
    "\n",
    "#create an empty dictionary (second way)\n",
    "my_dictionary = dict()\n",
    "\n",
    "print(my_dictionary)"
   ]
  },
  {
   "cell_type": "markdown",
   "id": "caaba29b",
   "metadata": {},
   "source": [
    "# Q58. What will the output of the following?\n",
    "```\n",
    "var = {}\n",
    "print(type(var))\n",
    "```"
   ]
  },
  {
   "cell_type": "code",
   "execution_count": 6,
   "id": "548d9ea3",
   "metadata": {},
   "outputs": [
    {
     "name": "stdout",
     "output_type": "stream",
     "text": [
      "<class 'dict'>\n"
     ]
    }
   ],
   "source": [
    "var = {}\n",
    "print(type(var))"
   ]
  },
  {
   "cell_type": "markdown",
   "id": "f3c194d0",
   "metadata": {},
   "source": [
    "# Q59. How can we add an element in a dictionary?"
   ]
  },
  {
   "cell_type": "code",
   "execution_count": 10,
   "id": "ad897956",
   "metadata": {},
   "outputs": [
    {
     "name": "stdout",
     "output_type": "stream",
     "text": [
      "Before adding\n",
      "{'India': 91, 'UK': 44, 'USA': 1}\n",
      "------------------------------------------------------\n",
      "After adding\n",
      "{'India': 91, 'UK': 44, 'USA': 1, 'Spain': 34}\n"
     ]
    }
   ],
   "source": [
    "CountryCodeDict = {\"India\": 91, \"UK\" : 44 , \"USA\" : 1}\n",
    "print(\"Before adding\")\n",
    "print(CountryCodeDict)\n",
    "print('------------------------------------------------------')\n",
    "CountryCodeDict[\"Spain\"]= 34\n",
    "print(\"After adding\")\n",
    "print(CountryCodeDict)"
   ]
  },
  {
   "cell_type": "markdown",
   "id": "24073706",
   "metadata": {},
   "source": [
    "# Q60. Create a dictionary and access all the values in that dictionary."
   ]
  },
  {
   "cell_type": "code",
   "execution_count": 12,
   "id": "1903f50d",
   "metadata": {},
   "outputs": [
    {
     "name": "stdout",
     "output_type": "stream",
     "text": [
      "dict_values(['Ford', 'Mustang', 1964])\n"
     ]
    }
   ],
   "source": [
    "car = {\n",
    "\"brand\": \"Ford\",\n",
    "\"model\": \"Mustang\",\n",
    "\"year\": 1964\n",
    "}\n",
    "\n",
    "x = car.values()\n",
    "print(x) "
   ]
  },
  {
   "cell_type": "markdown",
   "id": "5db75322",
   "metadata": {},
   "source": [
    "# Q61. Create a nested dictionary and access all the element in the inner dictionary."
   ]
  },
  {
   "cell_type": "code",
   "execution_count": 13,
   "id": "7454ab45",
   "metadata": {},
   "outputs": [
    {
     "name": "stdout",
     "output_type": "stream",
     "text": [
      "John\n",
      "27\n",
      "Male\n"
     ]
    }
   ],
   "source": [
    "people = {1: {'name': 'John', 'age': '27', 'sex': 'Male'},\n",
    "          2: {'name': 'Marie', 'age': '22', 'sex': 'Female'}}\n",
    "\n",
    "print(people[1]['name'])\n",
    "print(people[1]['age'])\n",
    "print(people[1]['sex'])"
   ]
  },
  {
   "cell_type": "markdown",
   "id": "b5f2ab86",
   "metadata": {},
   "source": [
    "# Q62. What is the use of get() function?"
   ]
  },
  {
   "cell_type": "markdown",
   "id": "b2959ab7",
   "metadata": {},
   "source": [
    "Ans: In Python Dictionary, **get()** Method return the value for the given key if present in the dictionary. If not, then it will return None"
   ]
  },
  {
   "cell_type": "code",
   "execution_count": 15,
   "id": "5a1f1930",
   "metadata": {},
   "outputs": [
    {
     "name": "stdout",
     "output_type": "stream",
     "text": [
      "good\n"
     ]
    }
   ],
   "source": [
    "d = {'coding': 'good', 'thinking': 'better'}\n",
    "print(d.get('coding'))"
   ]
  },
  {
   "cell_type": "markdown",
   "id": "3fa4010a",
   "metadata": {},
   "source": [
    "# Q63. What is the use of items() function?"
   ]
  },
  {
   "cell_type": "markdown",
   "id": "c0467f59",
   "metadata": {},
   "source": [
    "Ans: In Python Dictionary, **items()** method is used to return the list with all dictionary keys with values."
   ]
  },
  {
   "cell_type": "code",
   "execution_count": 16,
   "id": "289c458e",
   "metadata": {},
   "outputs": [
    {
     "name": "stdout",
     "output_type": "stream",
     "text": [
      "Dictionary items:\n",
      "dict_items([('A', 'Hello'), ('B', 4), ('C', 'Bye')])\n"
     ]
    }
   ],
   "source": [
    "Dictionary1 = { 'A': 'Hello', 'B': 4, 'C': 'Bye' }\n",
    "  \n",
    "print(\"Dictionary items:\")\n",
    "  \n",
    "# Printing all the items of the Dictionary\n",
    "print(Dictionary1.items())"
   ]
  },
  {
   "cell_type": "markdown",
   "id": "82db6a18",
   "metadata": {},
   "source": [
    "# Q64. What is the use of pop() function?"
   ]
  },
  {
   "cell_type": "markdown",
   "id": "582f94a4",
   "metadata": {},
   "source": [
    "Ans: In Python dictionary, **pop()** method removes and returns the specified element from the dictionary."
   ]
  },
  {
   "cell_type": "code",
   "execution_count": 17,
   "id": "a92520e9",
   "metadata": {},
   "outputs": [
    {
     "name": "stdout",
     "output_type": "stream",
     "text": [
      "The dictionary before deletion : {'Nikhil': 7, 'Akshat': 1, 'Akash': 2}\n",
      "Value associated to popped key is : 2\n",
      "Dictionary after deletion is : {'Nikhil': 7, 'Akshat': 1}\n"
     ]
    }
   ],
   "source": [
    "test_dict = {\"Nikhil\": 7, \"Akshat\": 1, \"Akash\": 2}\n",
    " \n",
    "# Printing initial dict\n",
    "print(\"The dictionary before deletion : \" + str(test_dict))\n",
    " \n",
    "# using pop to return and remove key-value pair.\n",
    "pop_ele = test_dict.pop('Akash')\n",
    " \n",
    "# Printing the value associated to popped key\n",
    "print(\"Value associated to popped key is : \" + str(pop_ele))\n",
    " \n",
    "# Printing dictionary after deletion\n",
    "print(\"Dictionary after deletion is : \" + str(test_dict))"
   ]
  },
  {
   "cell_type": "markdown",
   "id": "572b7a67",
   "metadata": {},
   "source": [
    "# Q65. What is the use of popitems() function?"
   ]
  },
  {
   "cell_type": "markdown",
   "id": "162ac033",
   "metadata": {},
   "source": [
    "Ans: In Python dictionary, **popitem()** method removes the last inserted key-value pair from the dictionary and returns it as a tuple."
   ]
  },
  {
   "cell_type": "code",
   "execution_count": 18,
   "id": "0912d2c1",
   "metadata": {},
   "outputs": [
    {
     "name": "stdout",
     "output_type": "stream",
     "text": [
      "(3, '011')\n"
     ]
    }
   ],
   "source": [
    "d = {1: '001', 2: '010', 3: '011'}\n",
    "print(d.popitem())"
   ]
  },
  {
   "cell_type": "markdown",
   "id": "b1a0ff60",
   "metadata": {},
   "source": [
    "# Q66. What is the use of keys() function?"
   ]
  },
  {
   "cell_type": "markdown",
   "id": "13f8162c",
   "metadata": {},
   "source": [
    "Ans: The **keys()** method in Python Dictionary, returns a view object that displays a list of all the keys in the dictionary"
   ]
  },
  {
   "cell_type": "code",
   "execution_count": 19,
   "id": "e9498079",
   "metadata": {},
   "outputs": [
    {
     "name": "stdout",
     "output_type": "stream",
     "text": [
      "dict_keys(['A', 'B', 'C'])\n"
     ]
    }
   ],
   "source": [
    "Dictionary1 = {'A': 'Hello', 'B': 'For', 'C': 'Folks'}\n",
    " \n",
    "# Printing keys of dictionary\n",
    "print(Dictionary1.keys())"
   ]
  },
  {
   "cell_type": "markdown",
   "id": "d18f216a",
   "metadata": {},
   "source": [
    "# Q67. What is the use of values() function?"
   ]
  },
  {
   "cell_type": "markdown",
   "id": "281bde79",
   "metadata": {},
   "source": [
    "Ans: The **values()** method returns a view object. The view object contains the values of the dictionary, as a list."
   ]
  },
  {
   "cell_type": "code",
   "execution_count": 21,
   "id": "95f9f317",
   "metadata": {},
   "outputs": [
    {
     "name": "stdout",
     "output_type": "stream",
     "text": [
      "dict_values(['Hello', 'For', 'Folks'])\n"
     ]
    }
   ],
   "source": [
    "Dictionary1 = {'A': 'Hello', 'B': 'For', 'C': 'Folks'}\n",
    " \n",
    "# Printing values of dictionary\n",
    "print(Dictionary1.values())"
   ]
  },
  {
   "cell_type": "markdown",
   "id": "563e3499",
   "metadata": {},
   "source": [
    "# Q68. What are loops in Python?"
   ]
  },
  {
   "cell_type": "markdown",
   "id": "5169c412",
   "metadata": {},
   "source": [
    "Ans: It allows programmers to modify the flow of the program so that rather than writing the same code, again and again, programmers are able to repeat the code a finite number of times until a particular condition is satisfied."
   ]
  },
  {
   "cell_type": "markdown",
   "id": "b148c5d5",
   "metadata": {},
   "source": [
    "# Q69. How many type of loop are there in Python?"
   ]
  },
  {
   "cell_type": "markdown",
   "id": "5a953398",
   "metadata": {},
   "source": [
    "Ans: There are **two** types of loops in Python, for and while."
   ]
  },
  {
   "cell_type": "markdown",
   "id": "af7003c7",
   "metadata": {},
   "source": [
    "# Q70. What is the difference between for and while loops?"
   ]
  },
  {
   "cell_type": "markdown",
   "id": "d99f5014",
   "metadata": {},
   "source": [
    "Ans: Both for loop and while loop is used to execute the statements repeatedly while the program runs. **The major difference between for loop and the while loop is that for loop is used when the number of iterations is known, whereas execution is done in the while loop until the statement in the program is proved wrong.**"
   ]
  },
  {
   "cell_type": "markdown",
   "id": "c18730d8",
   "metadata": {},
   "source": [
    "# Q71. What is the use of continue statement?"
   ]
  },
  {
   "cell_type": "markdown",
   "id": "cae29bad",
   "metadata": {},
   "source": [
    "Ans:\n",
    "- A **continue** statement ends the current iteration of a loop.\n",
    "- A **continue** statement can only appear within the body of an iterative statement, such as for, or while."
   ]
  },
  {
   "cell_type": "markdown",
   "id": "31a4a0a7",
   "metadata": {},
   "source": [
    "# Q72. What is the use of break statement?"
   ]
  },
  {
   "cell_type": "markdown",
   "id": "ff1d1a2c",
   "metadata": {},
   "source": [
    "Ans: The **break** command allows you to terminate and exit a loop (that is for, or while) from any point other than the logical end."
   ]
  },
  {
   "cell_type": "markdown",
   "id": "1d4f1180",
   "metadata": {},
   "source": [
    "# Q73. What is the use of pass statement?"
   ]
  },
  {
   "cell_type": "markdown",
   "id": "8782f895",
   "metadata": {},
   "source": [
    "Ans: \n",
    "- In Python, **pass** is a null statement. The interpreter does not ignore a pass statement, but nothing happens and the statement results into no operation.\n",
    "- The **pass** statement is useful when you don’t write the implementation of a function but you want to implement it in the future."
   ]
  },
  {
   "cell_type": "markdown",
   "id": "42f4aca3",
   "metadata": {},
   "source": [
    "# Q74. What is the use of range() function?"
   ]
  },
  {
   "cell_type": "markdown",
   "id": "2a5e92a2",
   "metadata": {},
   "source": [
    "Ans: The Python **range()** function returns a sequence of numbers, in a given range. The most common use of it is to iterate sequence on a sequence of numbers using Python loops."
   ]
  },
  {
   "cell_type": "code",
   "execution_count": 22,
   "id": "72143e57",
   "metadata": {},
   "outputs": [
    {
     "name": "stdout",
     "output_type": "stream",
     "text": [
      "0 1 2 3 4 \n"
     ]
    }
   ],
   "source": [
    "# print first 5 integers\n",
    "# using python range() function\n",
    "for i in range(5):\n",
    "    print(i, end=\" \")\n",
    "print()"
   ]
  },
  {
   "cell_type": "markdown",
   "id": "b09f5409",
   "metadata": {},
   "source": [
    "# Q75. How can you loop over a dictionary?"
   ]
  },
  {
   "cell_type": "code",
   "execution_count": 23,
   "id": "4c434f7e",
   "metadata": {},
   "outputs": [
    {
     "name": "stdout",
     "output_type": "stream",
     "text": [
      "List Of given states and their capitals:\n",
      "\n",
      "Gujarat : Gandhinagar\n",
      "Maharashtra : Mumbai\n",
      "Rajasthan : Jaipur\n",
      "Bihar : Patna\n"
     ]
    }
   ],
   "source": [
    "# Python code to iterate through all key, value pairs in a dictionary\n",
    " \n",
    "statesAndCapitals = {\n",
    "    'Gujarat': 'Gandhinagar',\n",
    "    'Maharashtra': 'Mumbai',\n",
    "    'Rajasthan': 'Jaipur',\n",
    "    'Bihar': 'Patna'\n",
    "}\n",
    " \n",
    "print('List Of given states and their capitals:\\n')\n",
    " \n",
    "# Iterating over values\n",
    "for state, capital in statesAndCapitals.items():\n",
    "    print(state, \":\", capital)"
   ]
  },
  {
   "cell_type": "markdown",
   "id": "60f67dd8",
   "metadata": {},
   "source": [
    "# Q76. Write a Python program to find the factorial of a given number."
   ]
  },
  {
   "cell_type": "code",
   "execution_count": 26,
   "id": "09c94016",
   "metadata": {},
   "outputs": [
    {
     "name": "stdout",
     "output_type": "stream",
     "text": [
      "Enter the Number: 7\n",
      "The Factorial of 7 is: 5040\n"
     ]
    }
   ],
   "source": [
    "number = int(input(\"Enter the Number: \"))\n",
    "\n",
    "def fact_num(n):\n",
    "    if n == 1:\n",
    "        return 1\n",
    "    else:\n",
    "        return n * fact_num(n-1)\n",
    "\n",
    "print(f\"The Factorial of {number} is: {fact_num(number)}\")"
   ]
  },
  {
   "cell_type": "markdown",
   "id": "de6476c5",
   "metadata": {},
   "source": [
    "# Q77. Write a Python program to calculate the simple interest. Formula to calculate simple interest is SI = (P*R*T)/100"
   ]
  },
  {
   "cell_type": "code",
   "execution_count": 30,
   "id": "e9003e45",
   "metadata": {},
   "outputs": [
    {
     "name": "stdout",
     "output_type": "stream",
     "text": [
      "Enter the Principal Amount: 100000\n",
      "Enter the anual interest rate(in %): 8\n",
      "Enter the Time Duration(in yrs): 4\n",
      "The Simple Interest for the amount '100000' is: 32000.0\n"
     ]
    }
   ],
   "source": [
    "P = int(input(\"Enter the Principal Amount: \"))\n",
    "R = int(input(\"Enter the anual interest rate(in %): \"))\n",
    "T = int(input(\"Enter the Time Duration(in yrs): \"))\n",
    "\n",
    "SI = (P*R*T)/100\n",
    "\n",
    "print(f\"The Simple Interest for the amount '{P}' is: {SI}\")"
   ]
  },
  {
   "cell_type": "markdown",
   "id": "1f6a0599",
   "metadata": {},
   "source": [
    "# Q78. Write a Python program to calculate the compound interest. Formula of compound interest is A = P(1+ R/100)^t."
   ]
  },
  {
   "cell_type": "code",
   "execution_count": 33,
   "id": "2a178ed9",
   "metadata": {},
   "outputs": [
    {
     "name": "stdout",
     "output_type": "stream",
     "text": [
      "Enter the Principal Amount: 500000\n",
      "Enter the anual interest rate(in %): 12\n",
      "Enter the Time Duration(in yrs): 3\n",
      "The Compound Interest for the amount '500000' is: 702464.0000000002\n"
     ]
    }
   ],
   "source": [
    "Principal = int(input(\"Enter the Principal Amount: \"))\n",
    "Rate_of_interest = int(input(\"Enter the anual interest rate(in %): \"))\n",
    "Time = int(input(\"Enter the Time Duration(in yrs): \"))\n",
    "\n",
    "A = Principal * (1 + Rate_of_interest/100) ** Time\n",
    "\n",
    "print(f\"The Compound Interest for the amount '{P}' is: {A}\")"
   ]
  },
  {
   "cell_type": "markdown",
   "id": "86c101d8",
   "metadata": {},
   "source": [
    "# Q79. Write a Python program to check if a number is prime or not."
   ]
  },
  {
   "cell_type": "code",
   "execution_count": 43,
   "id": "84d7a3d4",
   "metadata": {},
   "outputs": [
    {
     "name": "stdout",
     "output_type": "stream",
     "text": [
      "Enter the Number: 9\n",
      "The Number 9 is not prime\n"
     ]
    }
   ],
   "source": [
    "number = int(input(\"Enter the Number: \"))\n",
    "\n",
    "def prime_or_not(num):\n",
    "    if num in [1, 2]:\n",
    "        return f\"The Number {num} is prime\"\n",
    "    if num % 2 == 0:\n",
    "        return f\"The Number {num} is not prime\"\n",
    "    for i in range(num-1, 2, -1):\n",
    "        if num % i == 0:\n",
    "            return f\"The Number {num} is not prime\"\n",
    "    return f\"The Number {num} is prime\"\n",
    "\n",
    "print(prime_or_not(number))"
   ]
  },
  {
   "cell_type": "markdown",
   "id": "8a114fd0",
   "metadata": {},
   "source": [
    "# Q80. Write a Python program to check Armstrong Number."
   ]
  },
  {
   "cell_type": "code",
   "execution_count": 6,
   "id": "4ee441be",
   "metadata": {},
   "outputs": [
    {
     "name": "stdout",
     "output_type": "stream",
     "text": [
      "Enter a number: 407\n",
      "407 is an Armstrong Number\n"
     ]
    }
   ],
   "source": [
    "number = int(input(\"Enter a number: \"))\n",
    "\n",
    "sums = 0\n",
    "temp = number\n",
    "while temp > 0:\n",
    "    digit = temp % 10\n",
    "    sums += digit ** len(str(number))\n",
    "    temp //= 10\n",
    "    \n",
    "if number == sums:\n",
    "    print(f\"{number} is an Armstrong Number\")\n",
    "else:\n",
    "    print(f\"{number} is not an Armstrong Number\")"
   ]
  },
  {
   "cell_type": "markdown",
   "id": "0351c79b",
   "metadata": {},
   "source": [
    "# Q81. Write a Python program to find the n-th Fibonacci Number."
   ]
  },
  {
   "cell_type": "code",
   "execution_count": 7,
   "id": "f5c5b3f5",
   "metadata": {},
   "outputs": [
    {
     "name": "stdout",
     "output_type": "stream",
     "text": [
      "34\n"
     ]
    }
   ],
   "source": [
    "def Fibonacci(n):\n",
    "    if n<= 0:\n",
    "        print(\"Incorrect input\")\n",
    "    elif n == 1:\n",
    "        return 0\n",
    "    elif n == 2:\n",
    "        return 1\n",
    "    else:\n",
    "        return Fibonacci(n-1)+Fibonacci(n-2)\n",
    "    \n",
    "print(Fibonacci(10))"
   ]
  },
  {
   "cell_type": "markdown",
   "id": "9fb32b52",
   "metadata": {},
   "source": [
    "# Q82. Write a Python program to interchange the first and last element in a list."
   ]
  },
  {
   "cell_type": "code",
   "execution_count": 8,
   "id": "599e1d9f",
   "metadata": {},
   "outputs": [
    {
     "name": "stdout",
     "output_type": "stream",
     "text": [
      "[24, 35, 9, 56, 12]\n"
     ]
    }
   ],
   "source": [
    "def swapList(newList):\n",
    "    size = len(newList)\n",
    "    temp = newList[0]\n",
    "    newList[0] = newList[size - 1]\n",
    "    newList[size - 1] = temp\n",
    "\n",
    "    return newList\n",
    "\n",
    "newList = [12, 35, 9, 56, 24]\n",
    " \n",
    "print(swapList(newList))"
   ]
  },
  {
   "cell_type": "markdown",
   "id": "c809211b",
   "metadata": {},
   "source": [
    "# Q83. Write a Python program to swap two elements in a list."
   ]
  },
  {
   "cell_type": "code",
   "execution_count": 11,
   "id": "26d9fb7e",
   "metadata": {},
   "outputs": [
    {
     "name": "stdout",
     "output_type": "stream",
     "text": [
      "[19, 65, 23, 90]\n"
     ]
    }
   ],
   "source": [
    "def swapPositions(list1, pos1, pos2):\n",
    "    list1[pos1], list1[pos2] = list1[pos2], list1[pos1]\n",
    "    return list1\n",
    "\n",
    "lst = [23, 65, 19, 90]\n",
    "pos1, pos2  = 1, 3\n",
    " \n",
    "print(swapPositions(lst, pos1-1, pos2-1))"
   ]
  },
  {
   "cell_type": "markdown",
   "id": "c26ca7e5",
   "metadata": {},
   "source": [
    "# Q84. Write a Python program to find N largest element from a list."
   ]
  },
  {
   "cell_type": "code",
   "execution_count": 2,
   "id": "9fb551af",
   "metadata": {},
   "outputs": [
    {
     "name": "stdout",
     "output_type": "stream",
     "text": [
      "[85, 41]\n"
     ]
    }
   ],
   "source": [
    "def N_max_elements(lst, N):\n",
    "    final_lst = []\n",
    "    \n",
    "    for _ in range(0, N):\n",
    "        max_num = 0\n",
    "        for j in range(len(lst)):\n",
    "            if lst[j] > max_num:\n",
    "                max_num = lst[j]\n",
    "        lst.remove(max_num)\n",
    "        final_lst.append(max_num)\n",
    "        \n",
    "    return final_lst\n",
    "\n",
    "print(N_max_elements([2, 6, 41, 85, 0, 3, 7, 6, 10], 2))"
   ]
  },
  {
   "cell_type": "markdown",
   "id": "82a22591",
   "metadata": {},
   "source": [
    "# Q85. Write a Python program to find cumulative sum of a list."
   ]
  },
  {
   "cell_type": "code",
   "execution_count": 3,
   "id": "e4046640",
   "metadata": {},
   "outputs": [
    {
     "name": "stdout",
     "output_type": "stream",
     "text": [
      "[4, 14, 29, 47, 67]\n"
     ]
    }
   ],
   "source": [
    "def cumulative_sum(lst):\n",
    "    new_lst = []\n",
    "    sum_per_iter = 0\n",
    "    for i in range(len(lst)):\n",
    "        sum_per_iter += lst[i]\n",
    "        new_lst.append(sum_per_iter)\n",
    "    return new_lst\n",
    "\n",
    "print(cumulative_sum([4, 10, 15, 18, 20]))"
   ]
  },
  {
   "cell_type": "markdown",
   "id": "16c42d8f",
   "metadata": {},
   "source": [
    "# Q86. Write a Python program to check if a string is palindrome or not."
   ]
  },
  {
   "cell_type": "code",
   "execution_count": 4,
   "id": "f1e65a58",
   "metadata": {},
   "outputs": [
    {
     "name": "stdout",
     "output_type": "stream",
     "text": [
      "Yes, the string 'madam' is a palindrome\n"
     ]
    }
   ],
   "source": [
    "def isPalindrome(s):\n",
    "    return s == s[::-1]\n",
    "\n",
    "string = \"madam\"\n",
    "ans = isPalindrome(string)\n",
    " \n",
    "if ans:\n",
    "    print(f\"Yes, the string '{string}' is a palindrome\")\n",
    "else:\n",
    "    print(f\"No, the string '{string}' is not a palindrome\")"
   ]
  },
  {
   "cell_type": "markdown",
   "id": "5be1d8d9",
   "metadata": {},
   "source": [
    "# Q87. Write a Python program to remove i'th element from a string."
   ]
  },
  {
   "cell_type": "code",
   "execution_count": 6,
   "id": "6c1d8a6e",
   "metadata": {},
   "outputs": [
    {
     "name": "stdout",
     "output_type": "stream",
     "text": [
      "prjwal\n"
     ]
    }
   ],
   "source": [
    "def remove_ith(string, i):\n",
    "    for j in range(len(string)):\n",
    "        if j == i-1:\n",
    "            string = string.replace(string[i-1], \"\", 1)\n",
    "    return string\n",
    "\n",
    "print(remove_ith(\"prajwal\", 3))"
   ]
  },
  {
   "cell_type": "markdown",
   "id": "3d1ddc51",
   "metadata": {},
   "source": [
    "# Q88. Write a Python program to check if a substring is present in a given string."
   ]
  },
  {
   "cell_type": "code",
   "execution_count": 8,
   "id": "5c5bb9de",
   "metadata": {},
   "outputs": [
    {
     "name": "stdout",
     "output_type": "stream",
     "text": [
      "Yes\n"
     ]
    }
   ],
   "source": [
    "string = \"Ladies and Gentlemen, welcome to the show\"\n",
    "sub_str = \"welcome\"\n",
    "\n",
    "str_lst = string.split(\" \")\n",
    "\n",
    "if sub_str in str_lst:\n",
    "    print(\"Yes\")\n",
    "else:\n",
    "    print(\"No\")"
   ]
  },
  {
   "cell_type": "markdown",
   "id": "462b1a58",
   "metadata": {},
   "source": [
    "# Q89. Write a Python program to find words which are greater than given length k."
   ]
  },
  {
   "cell_type": "code",
   "execution_count": 10,
   "id": "b2f9e328",
   "metadata": {},
   "outputs": [
    {
     "name": "stdout",
     "output_type": "stream",
     "text": [
      "['string', 'python']\n"
     ]
    }
   ],
   "source": [
    "sentence = \"string is fun in python\"\n",
    "length = 3\n",
    "\n",
    "print([item for item in sentence.split(\" \") if len(item) > length])"
   ]
  },
  {
   "cell_type": "markdown",
   "id": "0bcbd4d9",
   "metadata": {},
   "source": [
    "# Q90. Write a Python program to extract unquire dictionary values."
   ]
  },
  {
   "cell_type": "code",
   "execution_count": 12,
   "id": "706569f6",
   "metadata": {},
   "outputs": [
    {
     "name": "stdout",
     "output_type": "stream",
     "text": [
      "The original dictionary is : {'coding': [5, 6, 7, 8], 'is': [10, 11, 7, 5], 'best': [6, 12, 10, 8], 'for': [1, 2, 5]}\n",
      "The unique values list is : [1, 2, 5, 6, 7, 8, 10, 11, 12]\n"
     ]
    }
   ],
   "source": [
    "test_dict = {'coding' : [5, 6, 7, 8],\n",
    "             'is' : [10, 11, 7, 5],\n",
    "             'best' : [6, 12, 10, 8],\n",
    "             'for' : [1, 2, 5]\n",
    "            }\n",
    "print(\"The original dictionary is : \" + str(test_dict))\n",
    "x = []\n",
    "for i in test_dict.keys():\n",
    "    x.extend(test_dict[i])\n",
    "    \n",
    "x = list(set(x))\n",
    "x.sort()\n",
    "\n",
    "print(\"The unique values list is : \" + str(x))"
   ]
  },
  {
   "cell_type": "markdown",
   "id": "b005cfe5",
   "metadata": {},
   "source": [
    "# Q91. Write a Python program to merge two dictionary."
   ]
  },
  {
   "cell_type": "code",
   "execution_count": 13,
   "id": "a4644316",
   "metadata": {},
   "outputs": [
    {
     "name": "stdout",
     "output_type": "stream",
     "text": [
      "{'x': 10, 'y': 8, 'a': 6, 'b': 4}\n"
     ]
    }
   ],
   "source": [
    "def merge_dict(dict1, dict2):\n",
    "    res = dict1 | dict2\n",
    "    return res\n",
    "\n",
    "dict1 = {'x': 10, 'y': 8}\n",
    "dict2 = {'a': 6, 'b': 4}\n",
    "dict3 = merge_dict(dict1, dict2)\n",
    "print(dict3)"
   ]
  },
  {
   "cell_type": "markdown",
   "id": "6eb2aa6a",
   "metadata": {},
   "source": [
    "# Q92. Write a Python program to convert a list of tuples into dictionary.\n",
    "\n",
    "Input : [('Sachin', 10), ('MSD', 7), ('Kohli', 18), ('Rohit', 45)]           \n",
    "Output : {'Sachin': 10, 'MSD': 7, 'Kohli': 18, 'Rohit': 45}"
   ]
  },
  {
   "cell_type": "code",
   "execution_count": 16,
   "id": "6cf6e54b",
   "metadata": {},
   "outputs": [
    {
     "name": "stdout",
     "output_type": "stream",
     "text": [
      "Input : [('Sachin', 10), ('MSD', 7), ('Kohli', 18), ('Rohit', 45)]\n",
      "Output : {'Sachin': 10, 'MSD': 7, 'Kohli': 18, 'Rohit': 45}\n"
     ]
    }
   ],
   "source": [
    "inp = [('Sachin', 10), ('MSD', 7), ('Kohli', 18), ('Rohit', 45)]\n",
    "print(f\"Input : {inp}\")\n",
    "\n",
    "out = {}\n",
    "for item in inp:\n",
    "    out[item[0]] = item[1]\n",
    "\n",
    "print(f\"Output : {out}\")"
   ]
  },
  {
   "cell_type": "markdown",
   "id": "36861f67",
   "metadata": {},
   "source": [
    "# Q93. Write a Python program to create a list of tuples from given list having number and its cube in each tuple.\n",
    "\n",
    "Input: list = [9, 5, 6]                      \n",
    "Output: [(9, 729), (5, 125), (6, 216)]"
   ]
  },
  {
   "cell_type": "code",
   "execution_count": 19,
   "id": "b5eaaa1e",
   "metadata": {},
   "outputs": [
    {
     "name": "stdout",
     "output_type": "stream",
     "text": [
      "Input: list = [9, 5, 6]\n",
      "Output: [(9, 729), (5, 125), (6, 216)]\n"
     ]
    }
   ],
   "source": [
    "inp = [9, 5, 6]\n",
    "print(f\"Input: list = {inp}\")\n",
    "\n",
    "out = []\n",
    "for item in inp:\n",
    "    out.append((item, item ** 3))\n",
    "    \n",
    "print(f\"Output: {out}\")"
   ]
  },
  {
   "cell_type": "markdown",
   "id": "ac016e93",
   "metadata": {},
   "source": [
    "# Q94. Write a Python program to get all combinations of 2 tuples.\n",
    "\n",
    "Input : test_tuple1 = (7, 2), test_tuple2 = (7, 8)                    \n",
    "Output : [(7, 7), (7, 8), (2, 7), (2, 8), (7, 7), (7, 2), (8, 7), (8, 2)]"
   ]
  },
  {
   "cell_type": "code",
   "execution_count": 5,
   "id": "56b1335b",
   "metadata": {},
   "outputs": [
    {
     "name": "stdout",
     "output_type": "stream",
     "text": [
      "Input : test_tuple1 = (7, 2), test_tuple2 = (7, 8)\n",
      "Output: [(7, 7), (7, 8), (2, 7), (2, 8), (7, 7), (7, 2), (8, 7), (8, 2)]\n"
     ]
    }
   ],
   "source": [
    "tuple1 = (7, 2)\n",
    "tuple2 = (7, 8)\n",
    "print(f\"Input : test_tuple1 = {tuple1}, test_tuple2 = {tuple2}\")\n",
    "\n",
    "out = []\n",
    "for i in tuple1:\n",
    "    for j in tuple2:\n",
    "        out.append((i, j))\n",
    "        \n",
    "for i in tuple2:\n",
    "    for j in tuple1:\n",
    "        out.append((i, j))\n",
    "\n",
    "print(f\"Output: {out}\")"
   ]
  },
  {
   "cell_type": "markdown",
   "id": "c2245571",
   "metadata": {},
   "source": [
    "# Q95. Write a Python program to sort a list of tuples by second item.\n",
    "\n",
    "Input : [('for', 24), ('Geeks', 8), ('Geeks', 30)]                         \n",
    "Output : [('Geeks', 8), ('for', 24), ('Geeks', 30)]"
   ]
  },
  {
   "cell_type": "code",
   "execution_count": 15,
   "id": "27d50e13",
   "metadata": {},
   "outputs": [
    {
     "name": "stdout",
     "output_type": "stream",
     "text": [
      "Input: [('for', 24), ('Geeks', 8), ('Geeks', 30)]\n",
      "Output: [('Geeks', 8), ('for', 24), ('Geeks', 30)]\n"
     ]
    }
   ],
   "source": [
    "inp = [('for', 24), ('Geeks', 8), ('Geeks', 30)]\n",
    "print(f\"Input: {inp}\")\n",
    "\n",
    "def Sort_Tuple(tup):\n",
    "    tup.sort(key = lambda x: x[1])\n",
    "    return tup\n",
    "\n",
    "print(f\"Output: {Sort_Tuple(inp)}\")"
   ]
  },
  {
   "cell_type": "markdown",
   "id": "021a11a3",
   "metadata": {},
   "source": [
    "# Q96. Write a python program to print below pattern.\n",
    "\n",
    "```\n",
    "* \n",
    "* * \n",
    "* * * \n",
    "* * * * \n",
    "* * * * * \n",
    "```"
   ]
  },
  {
   "cell_type": "code",
   "execution_count": 16,
   "id": "6d26bf9b",
   "metadata": {},
   "outputs": [
    {
     "name": "stdout",
     "output_type": "stream",
     "text": [
      "* \n",
      "* * \n",
      "* * * \n",
      "* * * * \n",
      "* * * * * \n"
     ]
    }
   ],
   "source": [
    "for i in range(1, 6):\n",
    "    print(\"* \" * i)"
   ]
  },
  {
   "cell_type": "markdown",
   "id": "d3659f6e",
   "metadata": {},
   "source": [
    "# Q97. Write a python program to print below pattern.\n",
    "```\n",
    "        *\n",
    "      * *\n",
    "    * * *\n",
    "  * * * *\n",
    "* * * * *\n",
    "```"
   ]
  },
  {
   "cell_type": "code",
   "execution_count": 18,
   "id": "49572d1c",
   "metadata": {},
   "outputs": [
    {
     "name": "stdout",
     "output_type": "stream",
     "text": [
      "        * \r\n",
      "      * * \r\n",
      "    * * * \r\n",
      "  * * * * \r\n",
      "* * * * * \r\n"
     ]
    }
   ],
   "source": [
    "def pattern2(n):\n",
    "    k = 2*n - 2\n",
    " \n",
    "    for i in range(0, n):\n",
    "        for j in range(0, k):\n",
    "            print(end=\" \")\n",
    "    \n",
    "        k = k - 2\n",
    "   \n",
    "        for j in range(0, i+1):\n",
    "            print(\"* \", end=\"\")\n",
    "        print(\"\\r\")\n",
    "        \n",
    "n = 5\n",
    "pattern2(n)"
   ]
  },
  {
   "cell_type": "markdown",
   "id": "0c66c43f",
   "metadata": {},
   "source": [
    "# Q98. Write a python program to print below pattern.\n",
    "```\n",
    "    * \n",
    "   * * \n",
    "  * * * \n",
    " * * * * \n",
    "* * * * * \n",
    "```"
   ]
  },
  {
   "cell_type": "code",
   "execution_count": 19,
   "id": "6f9c4b9e",
   "metadata": {},
   "outputs": [
    {
     "name": "stdout",
     "output_type": "stream",
     "text": [
      "    * \r\n",
      "   * * \r\n",
      "  * * * \r\n",
      " * * * * \r\n",
      "* * * * * \r\n"
     ]
    }
   ],
   "source": [
    "def triangle(n):\n",
    "    k = n - 1\n",
    "    for i in range(0, n):\n",
    "        for j in range(0, k):\n",
    "            print(end=\" \")\n",
    "        k = k - 1\n",
    "        for j in range(0, i+1):\n",
    "            print(\"* \", end=\"\")\n",
    "        print(\"\\r\")\n",
    "n = 5\n",
    "triangle(n)"
   ]
  },
  {
   "cell_type": "markdown",
   "id": "c7169b9a",
   "metadata": {},
   "source": [
    "# Q99. Write a python program to print below pattern.\n",
    "```\n",
    "1 \n",
    "1 2 \n",
    "1 2 3 \n",
    "1 2 3 4 \n",
    "1 2 3 4 5\n",
    "```"
   ]
  },
  {
   "cell_type": "code",
   "execution_count": 26,
   "id": "4cb679ed",
   "metadata": {},
   "outputs": [
    {
     "name": "stdout",
     "output_type": "stream",
     "text": [
      "1 \r\n",
      "1 2 \r\n",
      "1 2 3 \r\n",
      "1 2 3 4 \r\n",
      "1 2 3 4 5 \r\n"
     ]
    }
   ],
   "source": [
    "for i in range(1, 6):\n",
    "    for j in range(1, i+1):\n",
    "        print(j, end=\" \")\n",
    "    print(\"\\r\")"
   ]
  },
  {
   "cell_type": "markdown",
   "id": "ce7c8c3f",
   "metadata": {},
   "source": [
    "# Q100. Write a python program to print below pattern.\n",
    "```\n",
    "A \n",
    "B B \n",
    "C C C \n",
    "D D D D \n",
    "E E E E E \n",
    "```"
   ]
  },
  {
   "cell_type": "code",
   "execution_count": 34,
   "id": "73acd674",
   "metadata": {},
   "outputs": [
    {
     "name": "stdout",
     "output_type": "stream",
     "text": [
      "A \n",
      "B B \n",
      "C C C \n",
      "D D D D \n",
      "E E E E E \n"
     ]
    }
   ],
   "source": [
    "import string\n",
    "alphabet = list(string.ascii_uppercase)\n",
    "\n",
    "for i in range(1, 6):\n",
    "    print(f\"{alphabet[i-1]} \" * i)"
   ]
  },
  {
   "cell_type": "code",
   "execution_count": null,
   "id": "f23c2820",
   "metadata": {},
   "outputs": [],
   "source": []
  }
 ],
 "metadata": {
  "kernelspec": {
   "display_name": "Python 3 (ipykernel)",
   "language": "python",
   "name": "python3"
  },
  "language_info": {
   "codemirror_mode": {
    "name": "ipython",
    "version": 3
   },
   "file_extension": ".py",
   "mimetype": "text/x-python",
   "name": "python",
   "nbconvert_exporter": "python",
   "pygments_lexer": "ipython3",
   "version": "3.9.12"
  }
 },
 "nbformat": 4,
 "nbformat_minor": 5
}

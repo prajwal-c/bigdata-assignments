{
  "metadata": {
    "language_info": {
      "codemirror_mode": {
        "name": "python",
        "version": 3
      },
      "file_extension": ".py",
      "mimetype": "text/x-python",
      "name": "python",
      "nbconvert_exporter": "python",
      "pygments_lexer": "ipython3",
      "version": "3.8"
    },
    "kernelspec": {
      "name": "python",
      "display_name": "Python (Pyodide)",
      "language": "python"
    }
  },
  "nbformat_minor": 4,
  "nbformat": 4,
  "cells": [
    {
      "cell_type": "markdown",
      "source": "# Python OOP Assignment (Answers)",
      "metadata": {}
    },
    {
      "cell_type": "markdown",
      "source": "## Q1. What is the purpose of Python's OOP?",
      "metadata": {}
    },
    {
      "cell_type": "markdown",
      "source": "Ans:\n- OOPS in Python is to improve code readability and reusability by defining a Python program efficiently.\n- The main principles of object-oriented programming are abstraction, encapsulation, inheritance, and polymorphism. These concepts aim to implement real-world entities in programs.",
      "metadata": {}
    },
    {
      "cell_type": "markdown",
      "source": "## Q2. Where does an inheritance search look for an attribute?",
      "metadata": {}
    },
    {
      "cell_type": "markdown",
      "source": "Ans: \n-  An inheritance search looks for an attribute **first in the instance object, then in the class the instance was created from, then in all higher superclasses, progressing from left to right (by default).**\n- The search stops at the first place the attribute is found.",
      "metadata": {}
    },
    {
      "cell_type": "markdown",
      "source": "## Q3. How do you distinguish between a class object and an instance object?",
      "metadata": {}
    },
    {
      "cell_type": "markdown",
      "source": "Ans:\n- A Classes are a kind of factory for creating multiple instances. Classes also support operator overloading methods, which instances inherit, and treat any functions nested in the class as methods for processing instances.",
      "metadata": {}
    },
    {
      "cell_type": "markdown",
      "source": "## Q4. What makes the first argument in a class’s method function special?",
      "metadata": {}
    },
    {
      "cell_type": "markdown",
      "source": "Ans:\n- It always receives the instance object that is the implied subject of the method call. It’s usually called 'self' by convention.",
      "metadata": {}
    },
    {
      "cell_type": "markdown",
      "source": "## Q5. What is the purpose of the init method?",
      "metadata": {}
    },
    {
      "cell_type": "markdown",
      "source": "Ans:\n- If the __init__ method is coded or inherited in a class, Python calls it automatically each time an instance of that class is created.           \nEx:-",
      "metadata": {}
    },
    {
      "cell_type": "code",
      "source": "class New():\n    def __init__(self, arg1, arg2):\n        self.first_var = arg1\n        self.second_var = arg2",
      "metadata": {
        "trusted": true
      },
      "execution_count": 1,
      "outputs": []
    },
    {
      "cell_type": "markdown",
      "source": "## Q6. What is the process for creating a class instance?",
      "metadata": {}
    },
    {
      "cell_type": "markdown",
      "source": "Ans:\n- To create instances of a class, you call the class using class name and pass in whatever arguments its __init__ method accepts.",
      "metadata": {}
    },
    {
      "cell_type": "code",
      "source": "#\"This would create first object of Employee class\"\nemp1 = Employee(\"Zara\", 2000)\n#\"This would create second object of Employee class\"\nemp2 = Employee(\"Manni\", 5000)",
      "metadata": {
        "trusted": true
      },
      "execution_count": 5,
      "outputs": []
    },
    {
      "cell_type": "markdown",
      "source": "## Q7. What is the process for creating a class?",
      "metadata": {}
    },
    {
      "cell_type": "code",
      "source": "class Employee:\n    empCount = 0\n\n    def __init__(self, name, salary):\n        self.name = name\n        self.salary = salary\n        Employee.empCount += 1\n   \n    def displayCount(self):\n        print(\"Total Employee %d\" % Employee.empCount)\n\n    def displayEmployee(self):\n        print(\"Name : \", self.name,  \", Salary: \", self.salary)",
      "metadata": {
        "trusted": true
      },
      "execution_count": 6,
      "outputs": []
    },
    {
      "cell_type": "markdown",
      "source": "- The variable empCount is a class variable whose value is shared among all instances of a this class. This can be accessed as Employee.empCount from inside the class or outside the class.\n\n- The first method __init__() is a special method, which is called class constructor or initialization method that Python calls when you create a new instance of this class.\n\n- You declare other class methods like normal functions with the exception that the first argument to each method is self. Python adds the self argument to the list for you; you do not need to include it when you call the methods.",
      "metadata": {}
    },
    {
      "cell_type": "markdown",
      "source": "## Q8. How would you define the superclasses of a class?",
      "metadata": {}
    },
    {
      "cell_type": "code",
      "source": "class Emp():\n\tdef __init__(self, id, name, Add):\n\t\tself.id = id\n\t\tself.name = name\n\t\tself.Add = Add\n\n# Class freelancer inherits EMP\nclass Freelance(Emp):\n\tdef __init__(self, id, name, Add, Emails):\n\t\tsuper().__init__(id, name, Add)\n\t\tself.Emails = Emails\n\nEmp_1 = Freelance(103, \"Suraj kr gupta\", \"Noida\" , \"KKK@gmails\")\nprint('The ID is:', Emp_1.id)\nprint('The Name is:', Emp_1.name)\nprint('The Address is:', Emp_1.Add)\nprint('The Emails is:', Emp_1.Emails)",
      "metadata": {
        "trusted": true
      },
      "execution_count": 8,
      "outputs": [
        {
          "name": "stdout",
          "text": "The ID is: 103\nThe Name is: Suraj kr gupta\nThe Address is: Noida\nThe Emails is: KKK@gmails\n",
          "output_type": "stream"
        }
      ]
    },
    {
      "cell_type": "markdown",
      "source": "## Q9. What is the relationship between classes and modules?",
      "metadata": {}
    },
    {
      "cell_type": "markdown",
      "source": "Ans:\n- Modules are collections of methods and constants. They cannot generate instances.\n- Classes may generate instances (objects), and have per-instance state (instance variables).",
      "metadata": {}
    },
    {
      "cell_type": "markdown",
      "source": "## Q10. How do you make instances and classes?",
      "metadata": {}
    },
    {
      "cell_type": "code",
      "source": "class Employee:\n    empCount = 0\n    def __init__(self, name, salary):\n        self.name = name\n        self.salary = salary\n        Employee.empCount += 1\n    def displayCount(self):\n        print(\"Total Employee %d\" % Employee.empCount)\n    def displayEmployee(self):\n        print(\"Name : \", self.name, \", Salary: \", self.salary)\n        \nemp1 = Employee(\"Zara\", 2000)\nemp2 = Employee(\"Manni\", 5000)\nemp1.displayEmployee()\nemp2.displayEmployee()\nprint(\"Total Employee %d\" % Employee.empCount)",
      "metadata": {
        "trusted": true
      },
      "execution_count": 9,
      "outputs": [
        {
          "name": "stdout",
          "text": "Name :  Zara , Salary:  2000\nName :  Manni , Salary:  5000\nTotal Employee 2\n",
          "output_type": "stream"
        }
      ]
    },
    {
      "cell_type": "markdown",
      "source": "## Q11. Where and how should be class attributes created?",
      "metadata": {}
    },
    {
      "cell_type": "markdown",
      "source": "Ans:\n- A class attribute is shared by all instances of the class. To define a class attribute, you place it outside of the __init__() method.\n- Use class_name.class_attribute or object_name.class_attribute to access the value of the class_attribute.\n- Use class attributes for storing class contants, track data across all instances, and setting default values for all instances of the class.",
      "metadata": {}
    },
    {
      "cell_type": "markdown",
      "source": "## Q12. Where and how are instance attributes created?",
      "metadata": {}
    },
    {
      "cell_type": "markdown",
      "source": "Ans:\n- Instance attributes are somewhat dynamic because they can have different values in each object.\n- Instance attributes are defined in the __init__() function.",
      "metadata": {}
    },
    {
      "cell_type": "markdown",
      "source": "## Q13. What does the term \"self\" in a Python class mean?",
      "metadata": {}
    },
    {
      "cell_type": "markdown",
      "source": "Ans:\n- self represents the instance of the class. By using the “self” we can access the attributes and methods of the class in python. It binds the attributes with the given arguments. The reason you need to use self. is because Python does not use the @ syntax to refer to instance attributes.",
      "metadata": {}
    },
    {
      "cell_type": "markdown",
      "source": "## Q14. How does a Python class handle operator overloading?",
      "metadata": {}
    },
    {
      "cell_type": "markdown",
      "source": "Ans:\n- Operator Overloading means giving extended meaning beyond their predefined operational meaning. For example operator + is used to add two integers as well as join two strings and merge two lists. It is achievable because ‘+’ operator is overloaded by int class and str class. \n- You might have noticed that the same built-in operator or function shows different behavior for objects of different classes, this is called Operator Overloading. ",
      "metadata": {}
    },
    {
      "cell_type": "code",
      "source": "class A:\n\tdef __init__(self, a):\n\t\tself.a = a\n\n\t# adding two objects\n\tdef __add__(self, o):\n\t\treturn self.a + o.a\nob1 = A(1)\nob2 = A(2)\nob3 = A(\"Prajwal\")\nob4 = A(\"Gowda\")\n\nprint(ob1 + ob2)\nprint(ob3 + ob4)\nprint(A.__add__(ob1 , ob2))\nprint(A.__add__(ob3,ob4))\nprint(ob1.__add__(ob2))\nprint(ob3.__add__(ob4))\n",
      "metadata": {
        "trusted": true
      },
      "execution_count": 10,
      "outputs": [
        {
          "name": "stdout",
          "text": "3\nPrajwalGowda\n3\nPrajwalGowda\n3\nPrajwalGowda\n",
          "output_type": "stream"
        }
      ]
    },
    {
      "cell_type": "markdown",
      "source": "## Q15. When do you consider allowing operator overloading of your classes?",
      "metadata": {}
    },
    {
      "cell_type": "markdown",
      "source": "Ans:\n- Operator overloading facilitates the specification of user-defined implementation for operations wherein one or both operands are of user-defined class or structure type. \n- This helps user-defined types to behave much like the fundamental primitive data types.",
      "metadata": {}
    },
    {
      "cell_type": "markdown",
      "source": "## Q16. What is the most popular form of operator overloading?",
      "metadata": {}
    },
    {
      "cell_type": "markdown",
      "source": "Ans:\n- A very popular and convenient example is the **Addition (+)** operator.",
      "metadata": {}
    },
    {
      "cell_type": "markdown",
      "source": "## Q17. What are the two most important concepts to grasp in order to comprehend Python OOP code?",
      "metadata": {}
    },
    {
      "cell_type": "markdown",
      "source": "Ans: The two most important concepts to grasp in order to comprehend Python OOP code are:\n- Inheritance\n- Polymorphism.",
      "metadata": {}
    },
    {
      "cell_type": "markdown",
      "source": "## Q18. Describe three applications for exception processing.",
      "metadata": {}
    },
    {
      "cell_type": "markdown",
      "source": "Ans: Application of Exception Handling:\n- **SQLException** is a checked exception that occurs while executing queries on a database for Structured Query Language syntax.\n- **ClassNotFoundException** is a checked exception that occurs when the required class is not found -- either due to a command-line error, a missing CLASS file or an issue with the classpath.\n- **IllegalStateException** is an unchecked exception that occurs when an environment's state does not match the operation being executed.\n- **IllegalArgumentException** is an unchecked exception that occurs when an incorrect argument is passed to a method.\n- **NullPointerException** is an unchecked exception that occurs when a user tries to access an object using a reference variable that is null or empty.",
      "metadata": {}
    },
    {
      "cell_type": "markdown",
      "source": "## Q19. What happens if you don't do something extra to treat an exception?",
      "metadata": {}
    },
    {
      "cell_type": "markdown",
      "source": "Ans:\n- When an exception occurred, if you don't handle it, **the program terminates abruptly and the code past the line that caused the exception will not get executed.**",
      "metadata": {}
    },
    {
      "cell_type": "markdown",
      "source": "## Q20. What are your options for recovering from an exception in your script?",
      "metadata": {}
    },
    {
      "cell_type": "markdown",
      "source": "Ans:\n- A single try statement can have multiple except statements. This is useful when the try block contains statements that may throw different types of exceptions.\n- You can also provide a generic except clause, which handles any exception.\n- After the except clause(s), you can include an else-clause. The code in the else-block executes if the code in the try: block does not raise an exception.\n- The else-block is a good place for code that does not need the try: block's protection.",
      "metadata": {}
    },
    {
      "cell_type": "markdown",
      "source": "## Q21. Describe two methods for triggering exceptions in your script.",
      "metadata": {}
    },
    {
      "cell_type": "markdown",
      "source": "Ans: The two methods for triggering exceptions in your script.\n- **Try** – This method catches the exceptions raised by the program\n- **Raise** – Triggers an exception manually using custom exceptions",
      "metadata": {}
    },
    {
      "cell_type": "markdown",
      "source": "## Q22. Identify two methods for specifying actions to be executed at termination time, regardless of whether or not an exception exists.",
      "metadata": {}
    },
    {
      "cell_type": "markdown",
      "source": "Ans:\n- The first method is to use **finally** in python. Finally block always executes irrespective of an exception being thrown or not.\n- The second method is to write the code normally in the workflow of the script.",
      "metadata": {}
    },
    {
      "cell_type": "markdown",
      "source": "## Q23. What is the purpose of the try statement?",
      "metadata": {}
    },
    {
      "cell_type": "markdown",
      "source": "Ans:\n- The **try** statement allows you to define a block of code to be tested for errors while it is being executed.",
      "metadata": {}
    },
    {
      "cell_type": "markdown",
      "source": "## Q24. What are the two most popular try statement variations?",
      "metadata": {}
    },
    {
      "cell_type": "markdown",
      "source": "Ans: The two most popular try statement variations are:\n1. **Try/Except/Else**\n2. **Try/Except/Finally**",
      "metadata": {}
    },
    {
      "cell_type": "markdown",
      "source": "## Q25. What is the purpose of the raise statement?",
      "metadata": {}
    },
    {
      "cell_type": "markdown",
      "source": "Ans:\n- Python **raise** Keyword is used to raise exceptions or errors. The raise keyword raises an error and stops the control flow of the program. \n- It is used to bring up the current exception in an exception handler so that it can be handled further up the call stack.",
      "metadata": {}
    },
    {
      "cell_type": "markdown",
      "source": "## Q26. What does the assert statement do, and what other statement is it like?",
      "metadata": {}
    },
    {
      "cell_type": "markdown",
      "source": "Ans:\n- Python raise Keyword is used to raise exceptions or errors. The raise keyword raises an error and stops the control flow of the program. \n- It is used to bring up the current exception in an exception handler so that it can be handled further up the call stack.",
      "metadata": {}
    },
    {
      "cell_type": "markdown",
      "source": "## Q27. What is the purpose of the with/as argument, and what other statement is it like?",
      "metadata": {}
    },
    {
      "cell_type": "markdown",
      "source": "Ans:\n- In Python, with statement is used in exception handling to make the code cleaner and much more readable. \n- It simplifies the management of common resources like file streams.",
      "metadata": {}
    },
    {
      "cell_type": "markdown",
      "source": "## Q28. What are *args, **kwargs?",
      "metadata": {}
    },
    {
      "cell_type": "markdown",
      "source": "Ans:\n- ***args** :- The special syntax *args in function definitions in python is used to pass a variable number of arguments to a function. It is used to pass a non-key worded, variable-length argument list. \n- ****kwargs** :- The special syntax ****kwargs** in function definitions in python is used to pass a keyworded, variable-length argument list. We use the name kwargs with the double star. The reason is that the double star allows us to pass through keyword arguments (and any number of them).",
      "metadata": {}
    },
    {
      "cell_type": "markdown",
      "source": "## Q29. How can I pass optional or keyword parameters from one function to another?",
      "metadata": {}
    },
    {
      "cell_type": "markdown",
      "source": "Ans:\n- To pass optional or keyword parameters from one function to another, collect the arguments using the * and ** specifiers in the function’s parameter list.\n- To pass, collect the arguments using the * and ** in the function’s parameter list. Through this, you will get the positional arguments as a tuple and the keyword arguments as a dictionary. Pass these arguments when calling another function by using * and **",
      "metadata": {}
    },
    {
      "cell_type": "markdown",
      "source": "## Q30. What are Lambda Functions?",
      "metadata": {}
    },
    {
      "cell_type": "markdown",
      "source": "Ans: \n- Python Lambda Functions are anonymous function means that the function is without a name. As we already know that the def keyword is used to define a normal function in Python. \n- Similarly, the lambda keyword is used to define an anonymous function in Python.",
      "metadata": {}
    },
    {
      "cell_type": "markdown",
      "source": "## Q31. Explain Inheritance in Python with an example?",
      "metadata": {}
    },
    {
      "cell_type": "markdown",
      "source": "Ans:\n- **Inheritance** is a mechanism that allows you to create a hierarchy of classes that share a set of properties and methods by deriving a class from another class. \n- **Inheritance** is the capability of one class to derive or inherit the properties from another class. ",
      "metadata": {}
    },
    {
      "cell_type": "code",
      "source": "class Person(object):\n\tdef __init__(self, name):\n\t\tself.name = name\n        \n\tdef getName(self):\n\t\treturn self.name\n\n\tdef isEmployee(self):\n\t\treturn False\n\n\n# Inherited or Subclass (Note Person in bracket)\nclass Employee(Person):\n\n\t# Here we return true\n\tdef isEmployee(self):\n\t\treturn True\n\n\n# Driver code\nemp = Person(\"Shashank\") # An Object of Person\nprint(emp.getName(), emp.isEmployee())\n\nemp = Employee(\"Vishal\") # An Object of Employee\nprint(emp.getName(), emp.isEmployee())\n",
      "metadata": {
        "trusted": true
      },
      "execution_count": 12,
      "outputs": [
        {
          "name": "stdout",
          "text": "Shashank False\nVishal True\n",
          "output_type": "stream"
        }
      ]
    },
    {
      "cell_type": "markdown",
      "source": "## Q32. Suppose class C inherits from classes A and B as class C(A,B).Classes A and B both have their own versions of method func(). If we call func() from an object of class C, which version gets invoked?",
      "metadata": {}
    },
    {
      "cell_type": "markdown",
      "source": "Ans: The version of **Class A** is invoked.",
      "metadata": {}
    },
    {
      "cell_type": "markdown",
      "source": "## Q33. Which methods/functions do we use to determine the type of instance and inheritance?",
      "metadata": {}
    },
    {
      "cell_type": "markdown",
      "source": "Ans: **Python has two built-in functions that work with inheritance:**\n\n- Use **isinstance()** to check an instance's type: isinstance(obj, int) will be True only if obj.__class__ is int or some class derived from int.\n- Use **issubclass()** to check class inheritance: issubclass(bool, int) is True since bool is a subclass of int .",
      "metadata": {}
    },
    {
      "cell_type": "markdown",
      "source": "## Q34.Explain the use of the 'nonlocal' keyword in Python.",
      "metadata": {}
    },
    {
      "cell_type": "markdown",
      "source": "Ans:\n- The **nonlocal** keyword is used to work with variables inside nested functions, where the variable should not belong to the inner function. Use the keyword nonlocal to declare that the variable is not local.",
      "metadata": {}
    },
    {
      "cell_type": "markdown",
      "source": "## Q35. What is the global keyword?",
      "metadata": {}
    },
    {
      "cell_type": "markdown",
      "source": "Ans:\n- The **global** keyword is used to create global variables from a no-global scope, e.g. inside a function.",
      "metadata": {}
    }
  ]
}